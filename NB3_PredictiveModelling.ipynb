{
 "cells": [
  {
   "cell_type": "markdown",
   "id": "1497f9a9",
   "metadata": {},
   "source": [
    "# 3. Predictive model using Different Algorithms\n",
    "\n",
    "In this notebook we finally begin our path for prediction. We have considered logistic regression algothirms for our classification problem."
   ]
  },
  {
   "cell_type": "markdown",
   "id": "7282c498",
   "metadata": {},
   "source": [
    "## 3.1 Prediction"
   ]
  },
  {
   "cell_type": "code",
   "execution_count": 1,
   "id": "80243408",
   "metadata": {},
   "outputs": [],
   "source": [
    "# import libraries\n",
    "import numpy as np, pandas as pd, matplotlib.pyplot as plt, seaborn as sns\n",
    "%matplotlib inline"
   ]
  },
  {
   "cell_type": "code",
   "execution_count": 3,
   "id": "4a2cda29",
   "metadata": {},
   "outputs": [],
   "source": [
    "# load dataset\n",
    "df = pd.read_csv(\"data/smartphone-data.csv\",delimiter = \",\")"
   ]
  },
  {
   "cell_type": "markdown",
   "id": "777df6a2",
   "metadata": {},
   "source": [
    "Since the __activity columns is object type__, and our logistic regression would not be able to apprehend it. Therefor we must need to convert this column into numerical for each class, we can use __LabelEncoder__ to do do our job."
   ]
  },
  {
   "cell_type": "code",
   "execution_count": 4,
   "id": "2f0fdab4",
   "metadata": {},
   "outputs": [
    {
     "data": {
      "text/plain": [
       "9538    5\n",
       "1563    3\n",
       "475     4\n",
       "8981    3\n",
       "4150    5\n",
       "Name: Activity, dtype: int32"
      ]
     },
     "execution_count": 4,
     "metadata": {},
     "output_type": "execute_result"
    }
   ],
   "source": [
    "from sklearn.preprocessing import LabelEncoder\n",
    "\n",
    "le = LabelEncoder()\n",
    "df['Activity'] = le.fit_transform(df.Activity)\n",
    "df['Activity'].sample(5)"
   ]
  },
  {
   "cell_type": "markdown",
   "id": "0ac35ebe",
   "metadata": {},
   "source": [
    "Since we need the feature column separately, we create the dataframe."
   ]
  },
  {
   "cell_type": "code",
   "execution_count": 5,
   "id": "ee2efd39",
   "metadata": {},
   "outputs": [],
   "source": [
    "# feature column\n",
    "feature_columns = df.columns[:-1]"
   ]
  },
  {
   "cell_type": "markdown",
   "id": "836bfdcf",
   "metadata": {},
   "source": [
    "Now we __split the data into train and test data sets__. Since we need each class eqaully divided into the trian and test dataset, we consider using __Scikit-learn's StratifiedShuffleSplit__ to maintain the same ratio of predictor classes, since it is like K Fold which can balance the classes."
   ]
  },
  {
   "cell_type": "code",
   "execution_count": 6,
   "id": "72df7fc3",
   "metadata": {},
   "outputs": [],
   "source": [
    "from sklearn.model_selection import StratifiedShuffleSplit\n",
    "\n",
    "# get split indices\n",
    "strat_split = StratifiedShuffleSplit(n_splits=1, test_size=0.3, random_state=42)\n",
    "\n",
    "train_idx, test_idx = next(strat_split.split(df[feature_columns], df.Activity))\n",
    "\n",
    "# create dataframes\n",
    "X_train = df.loc[train_idx, feature_columns]\n",
    "y_train = df.loc[train_idx, \"Activity\"]\n",
    "\n",
    "X_test = df.loc[test_idx, feature_columns]\n",
    "y_test = df.loc[test_idx, \"Activity\"]"
   ]
  },
  {
   "cell_type": "code",
   "execution_count": 7,
   "id": "54d11e98",
   "metadata": {},
   "outputs": [
    {
     "data": {
      "text/plain": [
       "0    0.188792\n",
       "2    0.185046\n",
       "1    0.172562\n",
       "3    0.167152\n",
       "5    0.149951\n",
       "4    0.136496\n",
       "Name: Activity, dtype: float64"
      ]
     },
     "execution_count": 7,
     "metadata": {},
     "output_type": "execute_result"
    }
   ],
   "source": [
    "# check value count for y train\n",
    "y_train.value_counts(normalize=True)"
   ]
  },
  {
   "cell_type": "code",
   "execution_count": 8,
   "id": "b437f3da",
   "metadata": {},
   "outputs": [
    {
     "data": {
      "text/plain": [
       "0    0.188673\n",
       "2    0.185113\n",
       "1    0.172492\n",
       "3    0.167314\n",
       "5    0.149838\n",
       "4    0.136570\n",
       "Name: Activity, dtype: float64"
      ]
     },
     "execution_count": 8,
     "metadata": {},
     "output_type": "execute_result"
    }
   ],
   "source": [
    "# check value count for y test\n",
    "y_test.value_counts(normalize=True)"
   ]
  },
  {
   "cell_type": "markdown",
   "id": "f38a4a11",
   "metadata": {},
   "source": [
    "##  Logistic Regression\n",
    "\n",
    "Now we begin our logistic regression to predict our classes. Since we could be overfitting our model we can use both l1 and l2 norms (regularization - lasso, ridge) to check the accuracy for our model. Therefor we'll be using three types of model here\n",
    "first the vanilla logistic regression without any hyperparameter tuning, secondly with l1 and third with l2 regularization."
   ]
  },
  {
   "cell_type": "code",
   "execution_count": 9,
   "id": "498a97ec",
   "metadata": {},
   "outputs": [],
   "source": [
    "from sklearn.linear_model import LogisticRegression\n",
    "\n",
    "# since there are multiple classes, we have to use one vs all classifier -- solver = liblinear\n",
    "lr = LogisticRegression(solver='liblinear').fit(X_train,y_train)"
   ]
  },
  {
   "cell_type": "code",
   "execution_count": 10,
   "id": "71612a33",
   "metadata": {},
   "outputs": [],
   "source": [
    "from sklearn.linear_model import LogisticRegressionCV\n",
    "\n",
    "# l1 norm regularisation with lamda selection =10 , cv = 4\n",
    "lr_l1 = LogisticRegressionCV(Cs=10, cv=4, penalty='l1', solver='liblinear').fit(X_train,y_train)"
   ]
  },
  {
   "cell_type": "code",
   "execution_count": 11,
   "id": "5bf2f8b9",
   "metadata": {},
   "outputs": [],
   "source": [
    "# l1 norm regularisation with lamda selection =10 , cv = 4\n",
    "lr_l2 = LogisticRegressionCV(Cs=10, cv=4, penalty='l2', solver='liblinear').fit(X_train,y_train)"
   ]
  },
  {
   "cell_type": "code",
   "execution_count": 12,
   "id": "33b0197c",
   "metadata": {},
   "outputs": [],
   "source": [
    "# combine all coefficients into a dataframe\n",
    "coefficients = list()\n",
    "\n",
    "coeff_labels = ['lr', 'l1', 'l2']\n",
    "coeff_models = [lr, lr_l1, lr_l2]\n",
    "\n",
    "for label,model in zip(coeff_labels, coeff_models):\n",
    "    coeffs = model.coef_\n",
    "    coeff_label = pd.MultiIndex(levels=[[label], [0,1,2,3,4,5]], \n",
    "                                 codes=[[0,0,0,0,0,0], [0,1,2,3,4,5]])\n",
    "    coefficients.append(pd.DataFrame(coeffs.T, columns=coeff_label))\n",
    "\n",
    "coefficients = pd.concat(coefficients, axis=1)"
   ]
  },
  {
   "cell_type": "code",
   "execution_count": 13,
   "id": "2e536e08",
   "metadata": {},
   "outputs": [
    {
     "data": {
      "text/html": [
       "<div>\n",
       "<style scoped>\n",
       "    .dataframe tbody tr th:only-of-type {\n",
       "        vertical-align: middle;\n",
       "    }\n",
       "\n",
       "    .dataframe tbody tr th {\n",
       "        vertical-align: top;\n",
       "    }\n",
       "\n",
       "    .dataframe thead tr th {\n",
       "        text-align: left;\n",
       "    }\n",
       "</style>\n",
       "<table border=\"1\" class=\"dataframe\">\n",
       "  <thead>\n",
       "    <tr>\n",
       "      <th></th>\n",
       "      <th colspan=\"6\" halign=\"left\">lr</th>\n",
       "      <th colspan=\"6\" halign=\"left\">l1</th>\n",
       "      <th colspan=\"6\" halign=\"left\">l2</th>\n",
       "    </tr>\n",
       "    <tr>\n",
       "      <th></th>\n",
       "      <th>0</th>\n",
       "      <th>1</th>\n",
       "      <th>2</th>\n",
       "      <th>3</th>\n",
       "      <th>4</th>\n",
       "      <th>5</th>\n",
       "      <th>0</th>\n",
       "      <th>1</th>\n",
       "      <th>2</th>\n",
       "      <th>3</th>\n",
       "      <th>4</th>\n",
       "      <th>5</th>\n",
       "      <th>0</th>\n",
       "      <th>1</th>\n",
       "      <th>2</th>\n",
       "      <th>3</th>\n",
       "      <th>4</th>\n",
       "      <th>5</th>\n",
       "    </tr>\n",
       "  </thead>\n",
       "  <tbody>\n",
       "    <tr>\n",
       "      <th>438</th>\n",
       "      <td>-0.026657</td>\n",
       "      <td>-0.279934</td>\n",
       "      <td>0.012145</td>\n",
       "      <td>-0.157384</td>\n",
       "      <td>-0.142901</td>\n",
       "      <td>-0.066228</td>\n",
       "      <td>0.000000</td>\n",
       "      <td>0.000000</td>\n",
       "      <td>0.000000</td>\n",
       "      <td>-0.259000</td>\n",
       "      <td>-0.144543</td>\n",
       "      <td>-0.155346</td>\n",
       "      <td>-0.037326</td>\n",
       "      <td>-1.270512</td>\n",
       "      <td>0.531751</td>\n",
       "      <td>-0.601189</td>\n",
       "      <td>-0.380067</td>\n",
       "      <td>-0.223849</td>\n",
       "    </tr>\n",
       "    <tr>\n",
       "      <th>19</th>\n",
       "      <td>0.018511</td>\n",
       "      <td>-0.529262</td>\n",
       "      <td>-0.342816</td>\n",
       "      <td>-0.081396</td>\n",
       "      <td>0.134678</td>\n",
       "      <td>-0.433331</td>\n",
       "      <td>0.000000</td>\n",
       "      <td>-0.594522</td>\n",
       "      <td>0.000000</td>\n",
       "      <td>-0.231356</td>\n",
       "      <td>0.000000</td>\n",
       "      <td>-1.291810</td>\n",
       "      <td>0.037342</td>\n",
       "      <td>-1.839117</td>\n",
       "      <td>-0.570987</td>\n",
       "      <td>-0.268966</td>\n",
       "      <td>0.490371</td>\n",
       "      <td>-1.955086</td>\n",
       "    </tr>\n",
       "    <tr>\n",
       "      <th>437</th>\n",
       "      <td>0.047059</td>\n",
       "      <td>0.466953</td>\n",
       "      <td>-0.158667</td>\n",
       "      <td>0.163815</td>\n",
       "      <td>-0.108576</td>\n",
       "      <td>0.392797</td>\n",
       "      <td>0.215247</td>\n",
       "      <td>0.589773</td>\n",
       "      <td>0.000000</td>\n",
       "      <td>0.000000</td>\n",
       "      <td>0.000000</td>\n",
       "      <td>0.785897</td>\n",
       "      <td>0.077848</td>\n",
       "      <td>2.388314</td>\n",
       "      <td>-1.743023</td>\n",
       "      <td>0.115609</td>\n",
       "      <td>-0.418320</td>\n",
       "      <td>1.809987</td>\n",
       "    </tr>\n",
       "    <tr>\n",
       "      <th>505</th>\n",
       "      <td>0.105876</td>\n",
       "      <td>0.139917</td>\n",
       "      <td>0.347104</td>\n",
       "      <td>-0.848523</td>\n",
       "      <td>0.281501</td>\n",
       "      <td>0.431145</td>\n",
       "      <td>0.164886</td>\n",
       "      <td>0.000000</td>\n",
       "      <td>0.000000</td>\n",
       "      <td>-0.771838</td>\n",
       "      <td>0.174451</td>\n",
       "      <td>1.167708</td>\n",
       "      <td>0.190465</td>\n",
       "      <td>-0.054190</td>\n",
       "      <td>1.692420</td>\n",
       "      <td>-2.133302</td>\n",
       "      <td>0.498314</td>\n",
       "      <td>2.096796</td>\n",
       "    </tr>\n",
       "    <tr>\n",
       "      <th>525</th>\n",
       "      <td>-0.041768</td>\n",
       "      <td>0.033782</td>\n",
       "      <td>-0.243843</td>\n",
       "      <td>-0.117711</td>\n",
       "      <td>0.002087</td>\n",
       "      <td>0.792853</td>\n",
       "      <td>0.000000</td>\n",
       "      <td>0.000000</td>\n",
       "      <td>-0.079369</td>\n",
       "      <td>-0.045470</td>\n",
       "      <td>0.231052</td>\n",
       "      <td>5.552395</td>\n",
       "      <td>-0.078437</td>\n",
       "      <td>0.386488</td>\n",
       "      <td>-0.387268</td>\n",
       "      <td>-0.570071</td>\n",
       "      <td>0.097207</td>\n",
       "      <td>3.606820</td>\n",
       "    </tr>\n",
       "    <tr>\n",
       "      <th>403</th>\n",
       "      <td>-0.027296</td>\n",
       "      <td>0.057664</td>\n",
       "      <td>-0.029316</td>\n",
       "      <td>0.078496</td>\n",
       "      <td>0.115030</td>\n",
       "      <td>-0.264176</td>\n",
       "      <td>-0.036629</td>\n",
       "      <td>0.000000</td>\n",
       "      <td>0.000000</td>\n",
       "      <td>0.000000</td>\n",
       "      <td>0.046395</td>\n",
       "      <td>-0.417414</td>\n",
       "      <td>-0.064217</td>\n",
       "      <td>-0.133632</td>\n",
       "      <td>-0.007207</td>\n",
       "      <td>-0.017272</td>\n",
       "      <td>0.334061</td>\n",
       "      <td>-0.607612</td>\n",
       "    </tr>\n",
       "    <tr>\n",
       "      <th>22</th>\n",
       "      <td>0.087942</td>\n",
       "      <td>-0.747104</td>\n",
       "      <td>1.265813</td>\n",
       "      <td>1.232439</td>\n",
       "      <td>-1.393888</td>\n",
       "      <td>1.506603</td>\n",
       "      <td>0.000000</td>\n",
       "      <td>-1.783247</td>\n",
       "      <td>3.413183</td>\n",
       "      <td>3.625327</td>\n",
       "      <td>-3.732268</td>\n",
       "      <td>4.878710</td>\n",
       "      <td>0.252127</td>\n",
       "      <td>-2.821642</td>\n",
       "      <td>3.712974</td>\n",
       "      <td>3.091660</td>\n",
       "      <td>-2.660840</td>\n",
       "      <td>7.174872</td>\n",
       "    </tr>\n",
       "    <tr>\n",
       "      <th>506</th>\n",
       "      <td>0.130772</td>\n",
       "      <td>-0.408462</td>\n",
       "      <td>0.332398</td>\n",
       "      <td>0.006995</td>\n",
       "      <td>-0.156091</td>\n",
       "      <td>-0.227615</td>\n",
       "      <td>0.088252</td>\n",
       "      <td>0.000000</td>\n",
       "      <td>0.000000</td>\n",
       "      <td>0.011371</td>\n",
       "      <td>0.000000</td>\n",
       "      <td>-0.202589</td>\n",
       "      <td>0.238103</td>\n",
       "      <td>-3.405890</td>\n",
       "      <td>2.114340</td>\n",
       "      <td>0.269507</td>\n",
       "      <td>-0.322279</td>\n",
       "      <td>-1.384255</td>\n",
       "    </tr>\n",
       "    <tr>\n",
       "      <th>532</th>\n",
       "      <td>0.040457</td>\n",
       "      <td>0.831840</td>\n",
       "      <td>-0.514372</td>\n",
       "      <td>-0.213893</td>\n",
       "      <td>0.512250</td>\n",
       "      <td>-0.044362</td>\n",
       "      <td>0.000000</td>\n",
       "      <td>2.153548</td>\n",
       "      <td>-0.286498</td>\n",
       "      <td>-0.100212</td>\n",
       "      <td>0.771933</td>\n",
       "      <td>0.288024</td>\n",
       "      <td>0.064596</td>\n",
       "      <td>2.696246</td>\n",
       "      <td>-2.446551</td>\n",
       "      <td>-0.610761</td>\n",
       "      <td>1.316288</td>\n",
       "      <td>0.235516</td>\n",
       "    </tr>\n",
       "    <tr>\n",
       "      <th>526</th>\n",
       "      <td>0.054534</td>\n",
       "      <td>-0.072086</td>\n",
       "      <td>0.082796</td>\n",
       "      <td>0.778917</td>\n",
       "      <td>0.597529</td>\n",
       "      <td>-1.339679</td>\n",
       "      <td>0.000000</td>\n",
       "      <td>0.000000</td>\n",
       "      <td>0.018234</td>\n",
       "      <td>1.731159</td>\n",
       "      <td>0.681683</td>\n",
       "      <td>-5.557638</td>\n",
       "      <td>0.088706</td>\n",
       "      <td>0.298705</td>\n",
       "      <td>0.449227</td>\n",
       "      <td>1.739792</td>\n",
       "      <td>0.724852</td>\n",
       "      <td>-5.035697</td>\n",
       "    </tr>\n",
       "  </tbody>\n",
       "</table>\n",
       "</div>"
      ],
      "text/plain": [
       "           lr                                                          l1  \\\n",
       "            0         1         2         3         4         5         0   \n",
       "438 -0.026657 -0.279934  0.012145 -0.157384 -0.142901 -0.066228  0.000000   \n",
       "19   0.018511 -0.529262 -0.342816 -0.081396  0.134678 -0.433331  0.000000   \n",
       "437  0.047059  0.466953 -0.158667  0.163815 -0.108576  0.392797  0.215247   \n",
       "505  0.105876  0.139917  0.347104 -0.848523  0.281501  0.431145  0.164886   \n",
       "525 -0.041768  0.033782 -0.243843 -0.117711  0.002087  0.792853  0.000000   \n",
       "403 -0.027296  0.057664 -0.029316  0.078496  0.115030 -0.264176 -0.036629   \n",
       "22   0.087942 -0.747104  1.265813  1.232439 -1.393888  1.506603  0.000000   \n",
       "506  0.130772 -0.408462  0.332398  0.006995 -0.156091 -0.227615  0.088252   \n",
       "532  0.040457  0.831840 -0.514372 -0.213893  0.512250 -0.044362  0.000000   \n",
       "526  0.054534 -0.072086  0.082796  0.778917  0.597529 -1.339679  0.000000   \n",
       "\n",
       "                                                             l2            \\\n",
       "            1         2         3         4         5         0         1   \n",
       "438  0.000000  0.000000 -0.259000 -0.144543 -0.155346 -0.037326 -1.270512   \n",
       "19  -0.594522  0.000000 -0.231356  0.000000 -1.291810  0.037342 -1.839117   \n",
       "437  0.589773  0.000000  0.000000  0.000000  0.785897  0.077848  2.388314   \n",
       "505  0.000000  0.000000 -0.771838  0.174451  1.167708  0.190465 -0.054190   \n",
       "525  0.000000 -0.079369 -0.045470  0.231052  5.552395 -0.078437  0.386488   \n",
       "403  0.000000  0.000000  0.000000  0.046395 -0.417414 -0.064217 -0.133632   \n",
       "22  -1.783247  3.413183  3.625327 -3.732268  4.878710  0.252127 -2.821642   \n",
       "506  0.000000  0.000000  0.011371  0.000000 -0.202589  0.238103 -3.405890   \n",
       "532  2.153548 -0.286498 -0.100212  0.771933  0.288024  0.064596  2.696246   \n",
       "526  0.000000  0.018234  1.731159  0.681683 -5.557638  0.088706  0.298705   \n",
       "\n",
       "                                             \n",
       "            2         3         4         5  \n",
       "438  0.531751 -0.601189 -0.380067 -0.223849  \n",
       "19  -0.570987 -0.268966  0.490371 -1.955086  \n",
       "437 -1.743023  0.115609 -0.418320  1.809987  \n",
       "505  1.692420 -2.133302  0.498314  2.096796  \n",
       "525 -0.387268 -0.570071  0.097207  3.606820  \n",
       "403 -0.007207 -0.017272  0.334061 -0.607612  \n",
       "22   3.712974  3.091660 -2.660840  7.174872  \n",
       "506  2.114340  0.269507 -0.322279 -1.384255  \n",
       "532 -2.446551 -0.610761  1.316288  0.235516  \n",
       "526  0.449227  1.739792  0.724852 -5.035697  "
      ]
     },
     "execution_count": 13,
     "metadata": {},
     "output_type": "execute_result"
    }
   ],
   "source": [
    "# check 10 random sample\n",
    "coefficients.sample(10)"
   ]
  },
  {
   "cell_type": "code",
   "execution_count": 14,
   "id": "633c1058",
   "metadata": {},
   "outputs": [
    {
     "data": {
      "image/png": "[encoded data removed]",
      "text/plain": [
       "<Figure size 720x720 with 6 Axes>"
      ]
     },
     "metadata": {
      "needs_background": "light"
     },
     "output_type": "display_data"
    }
   ],
   "source": [
    "# plot six separate plots for each of the multi-class coefficients.\n",
    "fig, axList = plt.subplots(nrows=3, ncols=2)\n",
    "axList = axList.flatten()\n",
    "fig.set_size_inches(10,10)\n",
    "\n",
    "for ax in enumerate(axList):\n",
    "    loc = ax[0]\n",
    "    ax = ax[1]\n",
    "    \n",
    "    data = coefficients.xs(loc, level=1, axis=1)\n",
    "    data.plot(marker='o', ls='', ms=2.0, ax=ax, legend=False)\n",
    "    \n",
    "    if ax is axList[0]:\n",
    "        ax.legend(loc=4)\n",
    "        \n",
    "    ax.set(title='Coefficient Set '+str(loc))\n",
    "\n",
    "plt.tight_layout()"
   ]
  },
  {
   "cell_type": "code",
   "execution_count": 15,
   "id": "c3683b1e",
   "metadata": {},
   "outputs": [],
   "source": [
    "# Predict and store classes for each model. Store the probablity and class for each model\n",
    "\n",
    "y_pred = list()\n",
    "y_prob = list()\n",
    "\n",
    "for label,model in zip(coeff_labels, coeff_models):\n",
    "    y_pred.append(pd.Series(model.predict(X_test), name=label))\n",
    "    y_prob.append(pd.Series(model.predict_proba(X_test).max(axis=1), name=label))\n",
    "    \n",
    "y_pred = pd.concat(y_pred, axis=1)\n",
    "y_prob = pd.concat(y_prob, axis=1)"
   ]
  },
  {
   "cell_type": "code",
   "execution_count": 16,
   "id": "d5b9dae9",
   "metadata": {},
   "outputs": [
    {
     "data": {
      "text/html": [
       "<div>\n",
       "<style scoped>\n",
       "    .dataframe tbody tr th:only-of-type {\n",
       "        vertical-align: middle;\n",
       "    }\n",
       "\n",
       "    .dataframe tbody tr th {\n",
       "        vertical-align: top;\n",
       "    }\n",
       "\n",
       "    .dataframe thead th {\n",
       "        text-align: right;\n",
       "    }\n",
       "</style>\n",
       "<table border=\"1\" class=\"dataframe\">\n",
       "  <thead>\n",
       "    <tr style=\"text-align: right;\">\n",
       "      <th></th>\n",
       "      <th>lr</th>\n",
       "      <th>l1</th>\n",
       "      <th>l2</th>\n",
       "    </tr>\n",
       "  </thead>\n",
       "  <tbody>\n",
       "    <tr>\n",
       "      <th>0</th>\n",
       "      <td>0.998939</td>\n",
       "      <td>0.998911</td>\n",
       "      <td>0.999998</td>\n",
       "    </tr>\n",
       "    <tr>\n",
       "      <th>1</th>\n",
       "      <td>0.988165</td>\n",
       "      <td>0.999509</td>\n",
       "      <td>0.999477</td>\n",
       "    </tr>\n",
       "    <tr>\n",
       "      <th>2</th>\n",
       "      <td>0.987592</td>\n",
       "      <td>0.995451</td>\n",
       "      <td>0.999697</td>\n",
       "    </tr>\n",
       "    <tr>\n",
       "      <th>3</th>\n",
       "      <td>0.981381</td>\n",
       "      <td>0.999164</td>\n",
       "      <td>0.999865</td>\n",
       "    </tr>\n",
       "    <tr>\n",
       "      <th>4</th>\n",
       "      <td>0.998277</td>\n",
       "      <td>0.999924</td>\n",
       "      <td>0.999997</td>\n",
       "    </tr>\n",
       "    <tr>\n",
       "      <th>5</th>\n",
       "      <td>0.981715</td>\n",
       "      <td>0.998483</td>\n",
       "      <td>0.998213</td>\n",
       "    </tr>\n",
       "    <tr>\n",
       "      <th>6</th>\n",
       "      <td>0.998815</td>\n",
       "      <td>0.999999</td>\n",
       "      <td>1.000000</td>\n",
       "    </tr>\n",
       "    <tr>\n",
       "      <th>7</th>\n",
       "      <td>0.996950</td>\n",
       "      <td>0.999879</td>\n",
       "      <td>0.999990</td>\n",
       "    </tr>\n",
       "    <tr>\n",
       "      <th>8</th>\n",
       "      <td>0.999703</td>\n",
       "      <td>0.999999</td>\n",
       "      <td>0.999995</td>\n",
       "    </tr>\n",
       "    <tr>\n",
       "      <th>9</th>\n",
       "      <td>0.997391</td>\n",
       "      <td>0.999984</td>\n",
       "      <td>1.000000</td>\n",
       "    </tr>\n",
       "  </tbody>\n",
       "</table>\n",
       "</div>"
      ],
      "text/plain": [
       "         lr        l1        l2\n",
       "0  0.998939  0.998911  0.999998\n",
       "1  0.988165  0.999509  0.999477\n",
       "2  0.987592  0.995451  0.999697\n",
       "3  0.981381  0.999164  0.999865\n",
       "4  0.998277  0.999924  0.999997\n",
       "5  0.981715  0.998483  0.998213\n",
       "6  0.998815  0.999999  1.000000\n",
       "7  0.996950  0.999879  0.999990\n",
       "8  0.999703  0.999999  0.999995\n",
       "9  0.997391  0.999984  1.000000"
      ]
     },
     "execution_count": 16,
     "metadata": {},
     "output_type": "execute_result"
    }
   ],
   "source": [
    "# check probablity y \n",
    "y_prob.head(10)"
   ]
  },
  {
   "cell_type": "markdown",
   "id": "e81bd98f",
   "metadata": {},
   "source": [
    "## 3.2 Optimization"
   ]
  },
  {
   "cell_type": "markdown",
   "id": "64cf1a52",
   "metadata": {},
   "source": [
    "### Error Metrics and model performace\n",
    "\n",
    "For each model, we calculate the following error metrics: \n",
    "\n",
    "* Accuracy\n",
    "* Precision\n",
    "* Recall\n",
    "* F-score\n",
    "* Confusion Matrix"
   ]
  },
  {
   "cell_type": "code",
   "execution_count": 17,
   "id": "de1ab624",
   "metadata": {},
   "outputs": [],
   "source": [
    "from sklearn.metrics import precision_recall_fscore_support as score\n",
    "from sklearn.metrics import confusion_matrix, accuracy_score, roc_auc_score\n",
    "from sklearn.preprocessing import label_binarize"
   ]
  },
  {
   "cell_type": "code",
   "execution_count": 18,
   "id": "a1d5c25b",
   "metadata": {},
   "outputs": [],
   "source": [
    "metrics = list()\n",
    "conf_mat = dict()\n",
    "\n",
    "for label in coeff_labels:\n",
    "    \n",
    "    precision, recall, fscore, _ = score(y_test, y_pred[label], average='weighted')\n",
    "\n",
    "    accuracy = accuracy_score(y_test, y_pred[label])\n",
    "\n",
    "    auc = roc_auc_score(label_binarize(y_test, classes=[0,1,2,3,4,5]),\n",
    "              label_binarize(y_pred[label], classes=[0,1,2,3,4,5]), \n",
    "              average='weighted')\n",
    "\n",
    "    conf_mat[label] = confusion_matrix(y_test, y_pred[label])\n",
    "    \n",
    "    metrics.append(pd.Series({'precision':precision, 'recall':recall, \n",
    "                              'fscore':fscore, 'accuracy':accuracy,\n",
    "                              'auc':auc}, \n",
    "                             name=label))\n",
    "\n",
    "metrics = pd.concat(metrics, axis=1)"
   ]
  },
  {
   "cell_type": "code",
   "execution_count": 19,
   "id": "eaf90c0b",
   "metadata": {},
   "outputs": [
    {
     "data": {
      "text/html": [
       "<div>\n",
       "<style scoped>\n",
       "    .dataframe tbody tr th:only-of-type {\n",
       "        vertical-align: middle;\n",
       "    }\n",
       "\n",
       "    .dataframe tbody tr th {\n",
       "        vertical-align: top;\n",
       "    }\n",
       "\n",
       "    .dataframe thead th {\n",
       "        text-align: right;\n",
       "    }\n",
       "</style>\n",
       "<table border=\"1\" class=\"dataframe\">\n",
       "  <thead>\n",
       "    <tr style=\"text-align: right;\">\n",
       "      <th></th>\n",
       "      <th>lr</th>\n",
       "      <th>l1</th>\n",
       "      <th>l2</th>\n",
       "    </tr>\n",
       "  </thead>\n",
       "  <tbody>\n",
       "    <tr>\n",
       "      <th>precision</th>\n",
       "      <td>0.984144</td>\n",
       "      <td>0.983506</td>\n",
       "      <td>0.984477</td>\n",
       "    </tr>\n",
       "    <tr>\n",
       "      <th>recall</th>\n",
       "      <td>0.984142</td>\n",
       "      <td>0.983495</td>\n",
       "      <td>0.984466</td>\n",
       "    </tr>\n",
       "    <tr>\n",
       "      <th>fscore</th>\n",
       "      <td>0.984143</td>\n",
       "      <td>0.983492</td>\n",
       "      <td>0.984464</td>\n",
       "    </tr>\n",
       "    <tr>\n",
       "      <th>accuracy</th>\n",
       "      <td>0.984142</td>\n",
       "      <td>0.983495</td>\n",
       "      <td>0.984466</td>\n",
       "    </tr>\n",
       "    <tr>\n",
       "      <th>auc</th>\n",
       "      <td>0.990384</td>\n",
       "      <td>0.989948</td>\n",
       "      <td>0.990553</td>\n",
       "    </tr>\n",
       "  </tbody>\n",
       "</table>\n",
       "</div>"
      ],
      "text/plain": [
       "                 lr        l1        l2\n",
       "precision  0.984144  0.983506  0.984477\n",
       "recall     0.984142  0.983495  0.984466\n",
       "fscore     0.984143  0.983492  0.984464\n",
       "accuracy   0.984142  0.983495  0.984466\n",
       "auc        0.990384  0.989948  0.990553"
      ]
     },
     "execution_count": 19,
     "metadata": {},
     "output_type": "execute_result"
    }
   ],
   "source": [
    "# check the result\n",
    "metrics"
   ]
  },
  {
   "cell_type": "markdown",
   "id": "68740bc6",
   "metadata": {},
   "source": [
    "__Plot Confusion Matrix for each model__"
   ]
  },
  {
   "cell_type": "code",
   "execution_count": 20,
   "id": "43e91570",
   "metadata": {},
   "outputs": [
    {
     "data": {
      "image/png": "[encoded data removed]",
      "text/plain": [
       "<Figure size 864x720 with 7 Axes>"
      ]
     },
     "metadata": {
      "needs_background": "light"
     },
     "output_type": "display_data"
    }
   ],
   "source": [
    "fig, axList = plt.subplots(nrows=2, ncols=2)\n",
    "axList = axList.flatten()\n",
    "fig.set_size_inches(12, 10)\n",
    "\n",
    "axList[-1].axis('off')\n",
    "\n",
    "for ax,label in zip(axList[:-1], coeff_labels):\n",
    "    sns.heatmap(conf_mat[label], ax=ax, annot=True, fmt='d');\n",
    "    ax.set(title=label);\n",
    "    \n",
    "plt.tight_layout()"
   ]
  },
  {
   "cell_type": "code",
   "execution_count": 21,
   "id": "2d987922",
   "metadata": {},
   "outputs": [
    {
     "data": {
      "text/plain": [
       "array(['LAYING', 'SITTING', 'STANDING', 'WALKING', 'WALKING_DOWNSTAIRS',\n",
       "       'WALKING_UPSTAIRS'], dtype=object)"
      ]
     },
     "execution_count": 21,
     "metadata": {},
     "output_type": "execute_result"
    }
   ],
   "source": [
    "le.classes_"
   ]
  },
  {
   "cell_type": "markdown",
   "id": "7deae202",
   "metadata": {},
   "source": [
    "## Conclusion\n",
    "\n",
    "Finally we can see from the heatmap for our confusion matrix that almost everything is predicted correctly. Rows denote the ground truth value which means the actual class and the column denoted the predicted class values. We can see for each and every model that few of the predictions are improperly predicted for the classes 1 and 2 where our models get confused and assigns values to each other(wrong class). So class sitting and standing are getting confused with each other."
   ]
  }
 ],
 "metadata": {
  "kernelspec": {
   "display_name": "Python 3 (ipykernel)",
   "language": "python",
   "name": "python3"
  },
  "language_info": {
   "codemirror_mode": {
    "name": "ipython",
    "version": 3
   },
   "file_extension": ".py",
   "mimetype": "text/x-python",
   "name": "python",
   "nbconvert_exporter": "python",
   "pygments_lexer": "ipython3",
   "version": "3.9.6"
  }
 },
 "nbformat": 4,
 "nbformat_minor": 5
}
