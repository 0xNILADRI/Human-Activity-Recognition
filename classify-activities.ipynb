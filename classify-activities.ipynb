{
 "cells": [
  {
   "cell_type": "markdown",
   "metadata": {},
   "source": [
    "# Human Activity Recognition with Smartphones\n",
    "\n",
    "We will be working on the Human Activity Recognition with Smartphones database, it has been built using the recordings of study participants performing activities of daily living (ADL) while carrying a smartphone with an embedded inertial sensors. The objective is to classify activities into one of the six activities (walking, walking upstairs, walking downstairs, sitting, standing, and laying) performed.\n",
    "\n",
    "\n",
    "The dataset consists of :\n",
    "\n",
    "* Triaxial acceleration from the accelerometer (total acceleration) and the estimated body acceleration.\n",
    "* Triaxial Angular velocity from the gyroscope.\n",
    "* 561-feature vector with time and frequency domain variables.\n",
    "* Activity label."
   ]
  },
  {
   "cell_type": "code",
   "execution_count": 15,
   "metadata": {},
   "outputs": [],
   "source": [
    "# import libraries\n",
    "import numpy as np, pandas as pd, matplotlib.pyplot as plt, seaborn as sns\n",
    "%matplotlib inline"
   ]
  },
  {
   "cell_type": "code",
   "execution_count": 2,
   "metadata": {},
   "outputs": [],
   "source": [
    "# load dataset\n",
    "df = pd.read_csv(\"smartphone-data.csv\",delimiter = \",\")"
   ]
  },
  {
   "cell_type": "code",
   "execution_count": 3,
   "metadata": {},
   "outputs": [
    {
     "data": {
      "text/plain": [
       "float64    561\n",
       "object       1\n",
       "dtype: int64"
      ]
     },
     "execution_count": 3,
     "metadata": {},
     "output_type": "execute_result"
    }
   ],
   "source": [
    "# check dataset's datatypes\n",
    "df.dtypes.value_counts()"
   ]
  },
  {
   "cell_type": "markdown",
   "metadata": {},
   "source": [
    "All of the columns in the dataset is float (numerical) type except the target column `Activity`, we can visualize down bwlow."
   ]
  },
  {
   "cell_type": "code",
   "execution_count": 4,
   "metadata": {},
   "outputs": [
    {
     "data": {
      "text/plain": [
       "tBodyAcc-mean()-X                       float64\n",
       "tBodyAcc-mean()-Y                       float64\n",
       "tBodyAcc-mean()-Z                       float64\n",
       "tBodyAcc-std()-X                        float64\n",
       "tBodyAcc-std()-Y                        float64\n",
       "                                         ...   \n",
       "angle(tBodyGyroJerkMean,gravityMean)    float64\n",
       "angle(X,gravityMean)                    float64\n",
       "angle(Y,gravityMean)                    float64\n",
       "angle(Z,gravityMean)                    float64\n",
       "Activity                                 object\n",
       "Length: 562, dtype: object"
      ]
     },
     "execution_count": 4,
     "metadata": {},
     "output_type": "execute_result"
    }
   ],
   "source": [
    "df.tail(5).dtypes"
   ]
  },
  {
   "cell_type": "markdown",
   "metadata": {},
   "source": [
    "`Check whether all the columns are scaled - mininimum value : -1 and maximum value : 1 `"
   ]
  },
  {
   "cell_type": "code",
   "execution_count": 5,
   "metadata": {},
   "outputs": [
    {
     "name": "stdout",
     "output_type": "stream",
     "text": [
      "-1.0    561\n",
      "dtype: int64\n",
      "1.0    561\n",
      "dtype: int64\n"
     ]
    }
   ],
   "source": [
    "print(df.iloc[:,:-1].min().value_counts())\n",
    "print(df.iloc[:,:-1].max().value_counts())"
   ]
  },
  {
   "cell_type": "markdown",
   "metadata": {},
   "source": [
    "Yes all the columns are scaled."
   ]
  },
  {
   "cell_type": "markdown",
   "metadata": {},
   "source": [
    "`Now we have to check is our target column is balanced for each class`"
   ]
  },
  {
   "cell_type": "code",
   "execution_count": 6,
   "metadata": {},
   "outputs": [
    {
     "data": {
      "text/plain": [
       "LAYING                1944\n",
       "STANDING              1906\n",
       "SITTING               1777\n",
       "WALKING               1722\n",
       "WALKING_UPSTAIRS      1544\n",
       "WALKING_DOWNSTAIRS    1406\n",
       "Name: Activity, dtype: int64"
      ]
     },
     "execution_count": 6,
     "metadata": {},
     "output_type": "execute_result"
    }
   ],
   "source": [
    "df.Activity.value_counts()"
   ]
  },
  {
   "cell_type": "markdown",
   "metadata": {},
   "source": [
    "The classes seems pretty much balanced."
   ]
  },
  {
   "cell_type": "markdown",
   "metadata": {},
   "source": [
    "Since the __activity columns is object type__, and our logistic regression would not be able to apprehend it. Therefor we must need to convert this column into numerical for each class, we can use __LabelEncoder__ to do do our job."
   ]
  },
  {
   "cell_type": "code",
   "execution_count": 7,
   "metadata": {},
   "outputs": [
    {
     "data": {
      "text/plain": [
       "1859    3\n",
       "5511    2\n",
       "1783    2\n",
       "4932    1\n",
       "1746    5\n",
       "Name: Activity, dtype: int32"
      ]
     },
     "execution_count": 7,
     "metadata": {},
     "output_type": "execute_result"
    }
   ],
   "source": [
    "from sklearn.preprocessing import LabelEncoder\n",
    "\n",
    "le = LabelEncoder()\n",
    "df['Activity'] = le.fit_transform(df.Activity)\n",
    "df['Activity'].sample(5)"
   ]
  },
  {
   "cell_type": "code",
   "execution_count": 8,
   "metadata": {},
   "outputs": [],
   "source": [
    "# check for correalation between different variables\n",
    "\n",
    "feature_columns = df.columns[:-1]\n",
    "corr_values = df[feature_columns].corr()"
   ]
  },
  {
   "cell_type": "code",
   "execution_count": 9,
   "metadata": {},
   "outputs": [],
   "source": [
    "#remove values bwlow the diagonal\n",
    "trill_index = np.tril_indices_from(corr_values)"
   ]
  },
  {
   "cell_type": "code",
   "execution_count": 10,
   "metadata": {},
   "outputs": [],
   "source": [
    "# change unused columns to NaN\n",
    "for coor in zip(*trill_index):\n",
    "    corr_values.iloc[coor[0],coor[1]] = np.NaN"
   ]
  },
  {
   "cell_type": "code",
   "execution_count": 11,
   "metadata": {},
   "outputs": [],
   "source": [
    "# stack the data into dataframe\n",
    "corr_values = (corr_values\n",
    "               .stack()\n",
    "               .to_frame()\n",
    "               .reset_index()\n",
    "               .rename(columns={'level_0':'Feature 1',\n",
    "                                'level_1':'Feature 2',\n",
    "                                0:'correlation'}))"
   ]
  },
  {
   "cell_type": "code",
   "execution_count": 12,
   "metadata": {},
   "outputs": [],
   "source": [
    "# since the correalation values are in the range of -1 t0 1. Therefor we add another column for absolute values for the corr.\n",
    "corr_values['abs_correlation'] = corr_values['correlation'].abs()"
   ]
  },
  {
   "cell_type": "code",
   "execution_count": 18,
   "metadata": {},
   "outputs": [
    {
     "data": {
      "text/html": [
       "<div>\n",
       "<style scoped>\n",
       "    .dataframe tbody tr th:only-of-type {\n",
       "        vertical-align: middle;\n",
       "    }\n",
       "\n",
       "    .dataframe tbody tr th {\n",
       "        vertical-align: top;\n",
       "    }\n",
       "\n",
       "    .dataframe thead th {\n",
       "        text-align: right;\n",
       "    }\n",
       "</style>\n",
       "<table border=\"1\" class=\"dataframe\">\n",
       "  <thead>\n",
       "    <tr style=\"text-align: right;\">\n",
       "      <th></th>\n",
       "      <th>Feature 1</th>\n",
       "      <th>Feature 2</th>\n",
       "      <th>correlation</th>\n",
       "      <th>abs_correlation</th>\n",
       "    </tr>\n",
       "  </thead>\n",
       "  <tbody>\n",
       "    <tr>\n",
       "      <th>0</th>\n",
       "      <td>tBodyAcc-mean()-X</td>\n",
       "      <td>tBodyAcc-mean()-Y</td>\n",
       "      <td>0.128037</td>\n",
       "      <td>0.128037</td>\n",
       "    </tr>\n",
       "    <tr>\n",
       "      <th>1</th>\n",
       "      <td>tBodyAcc-mean()-X</td>\n",
       "      <td>tBodyAcc-mean()-Z</td>\n",
       "      <td>-0.230302</td>\n",
       "      <td>0.230302</td>\n",
       "    </tr>\n",
       "    <tr>\n",
       "      <th>2</th>\n",
       "      <td>tBodyAcc-mean()-X</td>\n",
       "      <td>tBodyAcc-std()-X</td>\n",
       "      <td>0.004590</td>\n",
       "      <td>0.004590</td>\n",
       "    </tr>\n",
       "    <tr>\n",
       "      <th>3</th>\n",
       "      <td>tBodyAcc-mean()-X</td>\n",
       "      <td>tBodyAcc-std()-Y</td>\n",
       "      <td>-0.016785</td>\n",
       "      <td>0.016785</td>\n",
       "    </tr>\n",
       "    <tr>\n",
       "      <th>4</th>\n",
       "      <td>tBodyAcc-mean()-X</td>\n",
       "      <td>tBodyAcc-std()-Z</td>\n",
       "      <td>-0.036071</td>\n",
       "      <td>0.036071</td>\n",
       "    </tr>\n",
       "    <tr>\n",
       "      <th>...</th>\n",
       "      <td>...</td>\n",
       "      <td>...</td>\n",
       "      <td>...</td>\n",
       "      <td>...</td>\n",
       "    </tr>\n",
       "    <tr>\n",
       "      <th>157075</th>\n",
       "      <td>angle(tBodyGyroJerkMean,gravityMean)</td>\n",
       "      <td>angle(Y,gravityMean)</td>\n",
       "      <td>-0.004582</td>\n",
       "      <td>0.004582</td>\n",
       "    </tr>\n",
       "    <tr>\n",
       "      <th>157076</th>\n",
       "      <td>angle(tBodyGyroJerkMean,gravityMean)</td>\n",
       "      <td>angle(Z,gravityMean)</td>\n",
       "      <td>-0.012549</td>\n",
       "      <td>0.012549</td>\n",
       "    </tr>\n",
       "    <tr>\n",
       "      <th>157077</th>\n",
       "      <td>angle(X,gravityMean)</td>\n",
       "      <td>angle(Y,gravityMean)</td>\n",
       "      <td>-0.748249</td>\n",
       "      <td>0.748249</td>\n",
       "    </tr>\n",
       "    <tr>\n",
       "      <th>157078</th>\n",
       "      <td>angle(X,gravityMean)</td>\n",
       "      <td>angle(Z,gravityMean)</td>\n",
       "      <td>-0.635231</td>\n",
       "      <td>0.635231</td>\n",
       "    </tr>\n",
       "    <tr>\n",
       "      <th>157079</th>\n",
       "      <td>angle(Y,gravityMean)</td>\n",
       "      <td>angle(Z,gravityMean)</td>\n",
       "      <td>0.545614</td>\n",
       "      <td>0.545614</td>\n",
       "    </tr>\n",
       "  </tbody>\n",
       "</table>\n",
       "<p>157080 rows × 4 columns</p>\n",
       "</div>"
      ],
      "text/plain": [
       "                                   Feature 1             Feature 2  \\\n",
       "0                          tBodyAcc-mean()-X     tBodyAcc-mean()-Y   \n",
       "1                          tBodyAcc-mean()-X     tBodyAcc-mean()-Z   \n",
       "2                          tBodyAcc-mean()-X      tBodyAcc-std()-X   \n",
       "3                          tBodyAcc-mean()-X      tBodyAcc-std()-Y   \n",
       "4                          tBodyAcc-mean()-X      tBodyAcc-std()-Z   \n",
       "...                                      ...                   ...   \n",
       "157075  angle(tBodyGyroJerkMean,gravityMean)  angle(Y,gravityMean)   \n",
       "157076  angle(tBodyGyroJerkMean,gravityMean)  angle(Z,gravityMean)   \n",
       "157077                  angle(X,gravityMean)  angle(Y,gravityMean)   \n",
       "157078                  angle(X,gravityMean)  angle(Z,gravityMean)   \n",
       "157079                  angle(Y,gravityMean)  angle(Z,gravityMean)   \n",
       "\n",
       "        correlation  abs_correlation  \n",
       "0          0.128037         0.128037  \n",
       "1         -0.230302         0.230302  \n",
       "2          0.004590         0.004590  \n",
       "3         -0.016785         0.016785  \n",
       "4         -0.036071         0.036071  \n",
       "...             ...              ...  \n",
       "157075    -0.004582         0.004582  \n",
       "157076    -0.012549         0.012549  \n",
       "157077    -0.748249         0.748249  \n",
       "157078    -0.635231         0.635231  \n",
       "157079     0.545614         0.545614  \n",
       "\n",
       "[157080 rows x 4 columns]"
      ]
     },
     "execution_count": 18,
     "metadata": {},
     "output_type": "execute_result"
    }
   ],
   "source": [
    "corr_values"
   ]
  },
  {
   "cell_type": "code",
   "execution_count": 17,
   "metadata": {},
   "outputs": [
    {
     "data": {
      "image/png": "[encoded data removed]",
      "text/plain": [
       "<Figure size 864x576 with 1 Axes>"
      ]
     },
     "metadata": {},
     "output_type": "display_data"
    }
   ],
   "source": [
    "# plot the histogram or frequency count for each unique correaltion\n",
    "sns.set_context('talk')\n",
    "sns.set_style('white')\n",
    "\n",
    "ax = corr_values.abs_correlation.hist(bins=50, figsize=(12, 8))\n",
    "ax.set(xlabel='Absolute Correlation', ylabel='Frequency');"
   ]
  },
  {
   "cell_type": "code",
   "execution_count": 19,
   "metadata": {},
   "outputs": [
    {
     "data": {
      "text/html": [
       "<div>\n",
       "<style scoped>\n",
       "    .dataframe tbody tr th:only-of-type {\n",
       "        vertical-align: middle;\n",
       "    }\n",
       "\n",
       "    .dataframe tbody tr th {\n",
       "        vertical-align: top;\n",
       "    }\n",
       "\n",
       "    .dataframe thead th {\n",
       "        text-align: right;\n",
       "    }\n",
       "</style>\n",
       "<table border=\"1\" class=\"dataframe\">\n",
       "  <thead>\n",
       "    <tr style=\"text-align: right;\">\n",
       "      <th></th>\n",
       "      <th>Feature 1</th>\n",
       "      <th>Feature 2</th>\n",
       "      <th>correlation</th>\n",
       "      <th>abs_correlation</th>\n",
       "    </tr>\n",
       "  </thead>\n",
       "  <tbody>\n",
       "    <tr>\n",
       "      <th>156894</th>\n",
       "      <td>fBodyBodyGyroJerkMag-mean()</td>\n",
       "      <td>fBodyBodyGyroJerkMag-sma()</td>\n",
       "      <td>1.000000</td>\n",
       "      <td>1.000000</td>\n",
       "    </tr>\n",
       "    <tr>\n",
       "      <th>93902</th>\n",
       "      <td>tBodyAccMag-sma()</td>\n",
       "      <td>tGravityAccMag-sma()</td>\n",
       "      <td>1.000000</td>\n",
       "      <td>1.000000</td>\n",
       "    </tr>\n",
       "    <tr>\n",
       "      <th>101139</th>\n",
       "      <td>tBodyAccJerkMag-mean()</td>\n",
       "      <td>tBodyAccJerkMag-sma()</td>\n",
       "      <td>1.000000</td>\n",
       "      <td>1.000000</td>\n",
       "    </tr>\n",
       "    <tr>\n",
       "      <th>96706</th>\n",
       "      <td>tGravityAccMag-mean()</td>\n",
       "      <td>tGravityAccMag-sma()</td>\n",
       "      <td>1.000000</td>\n",
       "      <td>1.000000</td>\n",
       "    </tr>\n",
       "    <tr>\n",
       "      <th>94257</th>\n",
       "      <td>tBodyAccMag-energy()</td>\n",
       "      <td>tGravityAccMag-energy()</td>\n",
       "      <td>1.000000</td>\n",
       "      <td>1.000000</td>\n",
       "    </tr>\n",
       "    <tr>\n",
       "      <th>...</th>\n",
       "      <td>...</td>\n",
       "      <td>...</td>\n",
       "      <td>...</td>\n",
       "      <td>...</td>\n",
       "    </tr>\n",
       "    <tr>\n",
       "      <th>22657</th>\n",
       "      <td>tGravityAcc-mean()-Y</td>\n",
       "      <td>angle(Y,gravityMean)</td>\n",
       "      <td>-0.993425</td>\n",
       "      <td>0.993425</td>\n",
       "    </tr>\n",
       "    <tr>\n",
       "      <th>39225</th>\n",
       "      <td>tGravityAcc-arCoeff()-Z,3</td>\n",
       "      <td>tGravityAcc-arCoeff()-Z,4</td>\n",
       "      <td>-0.994267</td>\n",
       "      <td>0.994267</td>\n",
       "    </tr>\n",
       "    <tr>\n",
       "      <th>38739</th>\n",
       "      <td>tGravityAcc-arCoeff()-Z,2</td>\n",
       "      <td>tGravityAcc-arCoeff()-Z,3</td>\n",
       "      <td>-0.994628</td>\n",
       "      <td>0.994628</td>\n",
       "    </tr>\n",
       "    <tr>\n",
       "      <th>23176</th>\n",
       "      <td>tGravityAcc-mean()-Z</td>\n",
       "      <td>angle(Z,gravityMean)</td>\n",
       "      <td>-0.994764</td>\n",
       "      <td>0.994764</td>\n",
       "    </tr>\n",
       "    <tr>\n",
       "      <th>38252</th>\n",
       "      <td>tGravityAcc-arCoeff()-Z,1</td>\n",
       "      <td>tGravityAcc-arCoeff()-Z,2</td>\n",
       "      <td>-0.995195</td>\n",
       "      <td>0.995195</td>\n",
       "    </tr>\n",
       "  </tbody>\n",
       "</table>\n",
       "<p>22815 rows × 4 columns</p>\n",
       "</div>"
      ],
      "text/plain": [
       "                          Feature 1                   Feature 2  correlation  \\\n",
       "156894  fBodyBodyGyroJerkMag-mean()  fBodyBodyGyroJerkMag-sma()     1.000000   \n",
       "93902             tBodyAccMag-sma()        tGravityAccMag-sma()     1.000000   \n",
       "101139       tBodyAccJerkMag-mean()       tBodyAccJerkMag-sma()     1.000000   \n",
       "96706         tGravityAccMag-mean()        tGravityAccMag-sma()     1.000000   \n",
       "94257          tBodyAccMag-energy()     tGravityAccMag-energy()     1.000000   \n",
       "...                             ...                         ...          ...   \n",
       "22657          tGravityAcc-mean()-Y        angle(Y,gravityMean)    -0.993425   \n",
       "39225     tGravityAcc-arCoeff()-Z,3   tGravityAcc-arCoeff()-Z,4    -0.994267   \n",
       "38739     tGravityAcc-arCoeff()-Z,2   tGravityAcc-arCoeff()-Z,3    -0.994628   \n",
       "23176          tGravityAcc-mean()-Z        angle(Z,gravityMean)    -0.994764   \n",
       "38252     tGravityAcc-arCoeff()-Z,1   tGravityAcc-arCoeff()-Z,2    -0.995195   \n",
       "\n",
       "        abs_correlation  \n",
       "156894         1.000000  \n",
       "93902          1.000000  \n",
       "101139         1.000000  \n",
       "96706          1.000000  \n",
       "94257          1.000000  \n",
       "...                 ...  \n",
       "22657          0.993425  \n",
       "39225          0.994267  \n",
       "38739          0.994628  \n",
       "23176          0.994764  \n",
       "38252          0.995195  \n",
       "\n",
       "[22815 rows x 4 columns]"
      ]
     },
     "execution_count": 19,
     "metadata": {},
     "output_type": "execute_result"
    }
   ],
   "source": [
    "# the features that are highly correlated\n",
    "corr_values.sort_values('correlation', ascending=False).query('abs_correlation>0.8')"
   ]
  },
  {
   "cell_type": "markdown",
   "metadata": {},
   "source": [
    "These columns have very high correaltion which means that one column can be used instead of the other. For eg area and volume of a object will have high correlation with each other since they are both interelated."
   ]
  },
  {
   "cell_type": "markdown",
   "metadata": {},
   "source": [
    "Now we __split the data into train and test data sets__. Since we need each class eqaully divided into the trian and test dataset, we consider using __Scikit-learn's StratifiedShuffleSplit__ to maintain the same ratio of predictor classes, since it is like K Fold which can balance the classes."
   ]
  },
  {
   "cell_type": "code",
   "execution_count": 20,
   "metadata": {},
   "outputs": [],
   "source": [
    "from sklearn.model_selection import StratifiedShuffleSplit\n",
    "\n",
    "# get split indices\n",
    "strat_split = StratifiedShuffleSplit(n_splits=1, test_size=0.3, random_state=42)\n",
    "\n",
    "train_idx, test_idx = next(strat_split.split(df[feature_columns], df.Activity))\n",
    "\n",
    "# create dataframes\n",
    "X_train = df.loc[train_idx, feature_columns]\n",
    "y_train = df.loc[train_idx, \"Activity\"]\n",
    "\n",
    "X_test = df.loc[test_idx, feature_columns]\n",
    "y_test = df.loc[test_idx, \"Activity\"]"
   ]
  },
  {
   "cell_type": "code",
   "execution_count": 21,
   "metadata": {},
   "outputs": [
    {
     "data": {
      "text/plain": [
       "0    0.188792\n",
       "2    0.185046\n",
       "1    0.172562\n",
       "3    0.167152\n",
       "5    0.149951\n",
       "4    0.136496\n",
       "Name: Activity, dtype: float64"
      ]
     },
     "execution_count": 21,
     "metadata": {},
     "output_type": "execute_result"
    }
   ],
   "source": [
    "# check value count for y train\n",
    "y_train.value_counts(normalize=True)"
   ]
  },
  {
   "cell_type": "code",
   "execution_count": 22,
   "metadata": {},
   "outputs": [
    {
     "data": {
      "text/plain": [
       "0    0.188673\n",
       "2    0.185113\n",
       "1    0.172492\n",
       "3    0.167314\n",
       "5    0.149838\n",
       "4    0.136570\n",
       "Name: Activity, dtype: float64"
      ]
     },
     "execution_count": 22,
     "metadata": {},
     "output_type": "execute_result"
    }
   ],
   "source": [
    "# check value count for y test\n",
    "y_test.value_counts(normalize=True)"
   ]
  },
  {
   "cell_type": "markdown",
   "metadata": {},
   "source": [
    "##  Logistic Regression\n",
    "\n",
    "Now we begin our logistic regression to predict our classes. Since we could be overfitting our model we can use both l1 and l2 norms (regularization - lasso, ridge) to check the accuracy for our model. Therefor we'll be using three types of model here\n",
    "first the vanilla logistic regression without any hyperparameter tuning, secondly with l1 and third with l2 regularization."
   ]
  },
  {
   "cell_type": "code",
   "execution_count": 23,
   "metadata": {},
   "outputs": [],
   "source": [
    "from sklearn.linear_model import LogisticRegression\n",
    "\n",
    "# since there are multiple classes, we have to use one vs all classifier -- solver = liblinear\n",
    "lr = LogisticRegression(solver='liblinear').fit(X_train,y_train)"
   ]
  },
  {
   "cell_type": "code",
   "execution_count": 25,
   "metadata": {},
   "outputs": [],
   "source": [
    "from sklearn.linear_model import LogisticRegressionCV\n",
    "\n",
    "# l1 norm regularisation with lamda selection =10 , cv = 4\n",
    "lr_l1 = LogisticRegressionCV(Cs=10, cv=4, penalty='l1', solver='liblinear').fit(X_train,y_train)"
   ]
  },
  {
   "cell_type": "code",
   "execution_count": 26,
   "metadata": {},
   "outputs": [],
   "source": [
    "# l1 norm regularisation with lamda selection =10 , cv = 4\n",
    "lr_l2 = LogisticRegressionCV(Cs=10, cv=4, penalty='l2', solver='liblinear').fit(X_train,y_train)"
   ]
  },
  {
   "cell_type": "code",
   "execution_count": 28,
   "metadata": {},
   "outputs": [],
   "source": [
    "# combine all coefficients into a dataframe\n",
    "coefficients = list()\n",
    "\n",
    "coeff_labels = ['lr', 'l1', 'l2']\n",
    "coeff_models = [lr, lr_l1, lr_l2]\n",
    "\n",
    "for label,model in zip(coeff_labels, coeff_models):\n",
    "    coeffs = model.coef_\n",
    "    coeff_label = pd.MultiIndex(levels=[[label], [0,1,2,3,4,5]], \n",
    "                                 codes=[[0,0,0,0,0,0], [0,1,2,3,4,5]])\n",
    "    coefficients.append(pd.DataFrame(coeffs.T, columns=coeff_label))\n",
    "\n",
    "coefficients = pd.concat(coefficients, axis=1)"
   ]
  },
  {
   "cell_type": "code",
   "execution_count": 30,
   "metadata": {},
   "outputs": [
    {
     "data": {
      "text/html": [
       "<div>\n",
       "<style scoped>\n",
       "    .dataframe tbody tr th:only-of-type {\n",
       "        vertical-align: middle;\n",
       "    }\n",
       "\n",
       "    .dataframe tbody tr th {\n",
       "        vertical-align: top;\n",
       "    }\n",
       "\n",
       "    .dataframe thead tr th {\n",
       "        text-align: left;\n",
       "    }\n",
       "</style>\n",
       "<table border=\"1\" class=\"dataframe\">\n",
       "  <thead>\n",
       "    <tr>\n",
       "      <th></th>\n",
       "      <th colspan=\"6\" halign=\"left\">lr</th>\n",
       "      <th colspan=\"6\" halign=\"left\">l1</th>\n",
       "      <th colspan=\"6\" halign=\"left\">l2</th>\n",
       "    </tr>\n",
       "    <tr>\n",
       "      <th></th>\n",
       "      <th>0</th>\n",
       "      <th>1</th>\n",
       "      <th>2</th>\n",
       "      <th>3</th>\n",
       "      <th>4</th>\n",
       "      <th>5</th>\n",
       "      <th>0</th>\n",
       "      <th>1</th>\n",
       "      <th>2</th>\n",
       "      <th>3</th>\n",
       "      <th>4</th>\n",
       "      <th>5</th>\n",
       "      <th>0</th>\n",
       "      <th>1</th>\n",
       "      <th>2</th>\n",
       "      <th>3</th>\n",
       "      <th>4</th>\n",
       "      <th>5</th>\n",
       "    </tr>\n",
       "  </thead>\n",
       "  <tbody>\n",
       "    <tr>\n",
       "      <th>35</th>\n",
       "      <td>0.120025</td>\n",
       "      <td>0.521152</td>\n",
       "      <td>-0.471850</td>\n",
       "      <td>0.031755</td>\n",
       "      <td>-0.183172</td>\n",
       "      <td>0.303932</td>\n",
       "      <td>0.017035</td>\n",
       "      <td>0.000000</td>\n",
       "      <td>0.000000</td>\n",
       "      <td>0.000000</td>\n",
       "      <td>0.000000</td>\n",
       "      <td>0.144820</td>\n",
       "      <td>0.188081</td>\n",
       "      <td>0.793139</td>\n",
       "      <td>-0.718740</td>\n",
       "      <td>0.300423</td>\n",
       "      <td>-0.514245</td>\n",
       "      <td>1.246318</td>\n",
       "    </tr>\n",
       "    <tr>\n",
       "      <th>401</th>\n",
       "      <td>-0.007959</td>\n",
       "      <td>0.221205</td>\n",
       "      <td>0.127256</td>\n",
       "      <td>0.499889</td>\n",
       "      <td>0.162896</td>\n",
       "      <td>-0.169742</td>\n",
       "      <td>-0.051321</td>\n",
       "      <td>0.306057</td>\n",
       "      <td>0.000000</td>\n",
       "      <td>0.608517</td>\n",
       "      <td>0.105367</td>\n",
       "      <td>0.006905</td>\n",
       "      <td>-0.033540</td>\n",
       "      <td>0.823239</td>\n",
       "      <td>0.137776</td>\n",
       "      <td>1.609848</td>\n",
       "      <td>0.374122</td>\n",
       "      <td>-0.999485</td>\n",
       "    </tr>\n",
       "    <tr>\n",
       "      <th>494</th>\n",
       "      <td>0.003497</td>\n",
       "      <td>0.191808</td>\n",
       "      <td>0.276696</td>\n",
       "      <td>0.148658</td>\n",
       "      <td>0.182418</td>\n",
       "      <td>-0.089770</td>\n",
       "      <td>0.000000</td>\n",
       "      <td>0.000000</td>\n",
       "      <td>0.570174</td>\n",
       "      <td>0.000000</td>\n",
       "      <td>0.094683</td>\n",
       "      <td>0.000000</td>\n",
       "      <td>-0.012959</td>\n",
       "      <td>0.386930</td>\n",
       "      <td>0.368818</td>\n",
       "      <td>0.140079</td>\n",
       "      <td>0.495039</td>\n",
       "      <td>-0.905059</td>\n",
       "    </tr>\n",
       "    <tr>\n",
       "      <th>507</th>\n",
       "      <td>0.019842</td>\n",
       "      <td>-0.053250</td>\n",
       "      <td>-0.322731</td>\n",
       "      <td>-1.004550</td>\n",
       "      <td>0.877976</td>\n",
       "      <td>-0.633997</td>\n",
       "      <td>0.000000</td>\n",
       "      <td>0.000000</td>\n",
       "      <td>-0.543540</td>\n",
       "      <td>-2.334196</td>\n",
       "      <td>2.755864</td>\n",
       "      <td>-2.969707</td>\n",
       "      <td>0.051006</td>\n",
       "      <td>0.504098</td>\n",
       "      <td>-0.522496</td>\n",
       "      <td>-2.470319</td>\n",
       "      <td>1.625712</td>\n",
       "      <td>-2.714562</td>\n",
       "    </tr>\n",
       "    <tr>\n",
       "      <th>285</th>\n",
       "      <td>-0.048881</td>\n",
       "      <td>-0.247449</td>\n",
       "      <td>-0.195492</td>\n",
       "      <td>0.150134</td>\n",
       "      <td>0.022948</td>\n",
       "      <td>0.350915</td>\n",
       "      <td>0.000000</td>\n",
       "      <td>0.000000</td>\n",
       "      <td>0.000000</td>\n",
       "      <td>0.000000</td>\n",
       "      <td>-0.154139</td>\n",
       "      <td>1.160128</td>\n",
       "      <td>-0.078401</td>\n",
       "      <td>-1.186338</td>\n",
       "      <td>-0.182785</td>\n",
       "      <td>0.183821</td>\n",
       "      <td>-0.171914</td>\n",
       "      <td>2.439051</td>\n",
       "    </tr>\n",
       "    <tr>\n",
       "      <th>7</th>\n",
       "      <td>-0.044016</td>\n",
       "      <td>-0.005860</td>\n",
       "      <td>-0.435470</td>\n",
       "      <td>0.246586</td>\n",
       "      <td>-0.433986</td>\n",
       "      <td>-0.090402</td>\n",
       "      <td>0.000000</td>\n",
       "      <td>0.000000</td>\n",
       "      <td>-1.166802</td>\n",
       "      <td>0.509051</td>\n",
       "      <td>-0.172674</td>\n",
       "      <td>-0.862215</td>\n",
       "      <td>-0.032279</td>\n",
       "      <td>0.803883</td>\n",
       "      <td>-0.660761</td>\n",
       "      <td>0.771184</td>\n",
       "      <td>-0.611159</td>\n",
       "      <td>-0.666417</td>\n",
       "    </tr>\n",
       "    <tr>\n",
       "      <th>478</th>\n",
       "      <td>0.003130</td>\n",
       "      <td>0.239679</td>\n",
       "      <td>0.275174</td>\n",
       "      <td>0.160749</td>\n",
       "      <td>0.186584</td>\n",
       "      <td>0.378035</td>\n",
       "      <td>0.000000</td>\n",
       "      <td>0.324832</td>\n",
       "      <td>0.537121</td>\n",
       "      <td>0.000929</td>\n",
       "      <td>0.000000</td>\n",
       "      <td>0.292108</td>\n",
       "      <td>-0.016685</td>\n",
       "      <td>0.659351</td>\n",
       "      <td>0.344328</td>\n",
       "      <td>0.468246</td>\n",
       "      <td>0.321757</td>\n",
       "      <td>1.386351</td>\n",
       "    </tr>\n",
       "    <tr>\n",
       "      <th>489</th>\n",
       "      <td>-0.008522</td>\n",
       "      <td>0.192153</td>\n",
       "      <td>0.282132</td>\n",
       "      <td>-0.294092</td>\n",
       "      <td>0.946852</td>\n",
       "      <td>-0.466729</td>\n",
       "      <td>-0.107413</td>\n",
       "      <td>0.000000</td>\n",
       "      <td>0.387629</td>\n",
       "      <td>-0.024405</td>\n",
       "      <td>1.042000</td>\n",
       "      <td>-0.634407</td>\n",
       "      <td>-0.034728</td>\n",
       "      <td>0.336916</td>\n",
       "      <td>0.417692</td>\n",
       "      <td>-1.000198</td>\n",
       "      <td>2.237415</td>\n",
       "      <td>-1.817352</td>\n",
       "    </tr>\n",
       "    <tr>\n",
       "      <th>329</th>\n",
       "      <td>-0.012531</td>\n",
       "      <td>0.173405</td>\n",
       "      <td>0.121301</td>\n",
       "      <td>0.087804</td>\n",
       "      <td>-0.201136</td>\n",
       "      <td>0.019096</td>\n",
       "      <td>-0.079854</td>\n",
       "      <td>0.000000</td>\n",
       "      <td>0.000000</td>\n",
       "      <td>0.048909</td>\n",
       "      <td>-0.004057</td>\n",
       "      <td>0.000000</td>\n",
       "      <td>-0.039497</td>\n",
       "      <td>0.705035</td>\n",
       "      <td>0.134686</td>\n",
       "      <td>0.067879</td>\n",
       "      <td>-0.487264</td>\n",
       "      <td>0.371311</td>\n",
       "    </tr>\n",
       "    <tr>\n",
       "      <th>255</th>\n",
       "      <td>-0.008875</td>\n",
       "      <td>-0.031974</td>\n",
       "      <td>0.291597</td>\n",
       "      <td>-0.093514</td>\n",
       "      <td>0.174068</td>\n",
       "      <td>-0.343126</td>\n",
       "      <td>0.000000</td>\n",
       "      <td>0.000000</td>\n",
       "      <td>0.000000</td>\n",
       "      <td>-0.036641</td>\n",
       "      <td>0.057327</td>\n",
       "      <td>-0.529564</td>\n",
       "      <td>-0.023212</td>\n",
       "      <td>-0.062761</td>\n",
       "      <td>0.386936</td>\n",
       "      <td>-0.236754</td>\n",
       "      <td>0.435337</td>\n",
       "      <td>-2.357204</td>\n",
       "    </tr>\n",
       "  </tbody>\n",
       "</table>\n",
       "</div>"
      ],
      "text/plain": [
       "           lr                                                          l1  \\\n",
       "            0         1         2         3         4         5         0   \n",
       "35   0.120025  0.521152 -0.471850  0.031755 -0.183172  0.303932  0.017035   \n",
       "401 -0.007959  0.221205  0.127256  0.499889  0.162896 -0.169742 -0.051321   \n",
       "494  0.003497  0.191808  0.276696  0.148658  0.182418 -0.089770  0.000000   \n",
       "507  0.019842 -0.053250 -0.322731 -1.004550  0.877976 -0.633997  0.000000   \n",
       "285 -0.048881 -0.247449 -0.195492  0.150134  0.022948  0.350915  0.000000   \n",
       "7   -0.044016 -0.005860 -0.435470  0.246586 -0.433986 -0.090402  0.000000   \n",
       "478  0.003130  0.239679  0.275174  0.160749  0.186584  0.378035  0.000000   \n",
       "489 -0.008522  0.192153  0.282132 -0.294092  0.946852 -0.466729 -0.107413   \n",
       "329 -0.012531  0.173405  0.121301  0.087804 -0.201136  0.019096 -0.079854   \n",
       "255 -0.008875 -0.031974  0.291597 -0.093514  0.174068 -0.343126  0.000000   \n",
       "\n",
       "                                                             l2            \\\n",
       "            1         2         3         4         5         0         1   \n",
       "35   0.000000  0.000000  0.000000  0.000000  0.144820  0.188081  0.793139   \n",
       "401  0.306057  0.000000  0.608517  0.105367  0.006905 -0.033540  0.823239   \n",
       "494  0.000000  0.570174  0.000000  0.094683  0.000000 -0.012959  0.386930   \n",
       "507  0.000000 -0.543540 -2.334196  2.755864 -2.969707  0.051006  0.504098   \n",
       "285  0.000000  0.000000  0.000000 -0.154139  1.160128 -0.078401 -1.186338   \n",
       "7    0.000000 -1.166802  0.509051 -0.172674 -0.862215 -0.032279  0.803883   \n",
       "478  0.324832  0.537121  0.000929  0.000000  0.292108 -0.016685  0.659351   \n",
       "489  0.000000  0.387629 -0.024405  1.042000 -0.634407 -0.034728  0.336916   \n",
       "329  0.000000  0.000000  0.048909 -0.004057  0.000000 -0.039497  0.705035   \n",
       "255  0.000000  0.000000 -0.036641  0.057327 -0.529564 -0.023212 -0.062761   \n",
       "\n",
       "                                             \n",
       "            2         3         4         5  \n",
       "35  -0.718740  0.300423 -0.514245  1.246318  \n",
       "401  0.137776  1.609848  0.374122 -0.999485  \n",
       "494  0.368818  0.140079  0.495039 -0.905059  \n",
       "507 -0.522496 -2.470319  1.625712 -2.714562  \n",
       "285 -0.182785  0.183821 -0.171914  2.439051  \n",
       "7   -0.660761  0.771184 -0.611159 -0.666417  \n",
       "478  0.344328  0.468246  0.321757  1.386351  \n",
       "489  0.417692 -1.000198  2.237415 -1.817352  \n",
       "329  0.134686  0.067879 -0.487264  0.371311  \n",
       "255  0.386936 -0.236754  0.435337 -2.357204  "
      ]
     },
     "execution_count": 30,
     "metadata": {},
     "output_type": "execute_result"
    }
   ],
   "source": [
    "# check 10 random sample\n",
    "coefficients.sample(10)"
   ]
  },
  {
   "cell_type": "code",
   "execution_count": 31,
   "metadata": {},
   "outputs": [
    {
     "data": {
      "image/png": "[encoded data removed]",
      "text/plain": [
       "<Figure size 720x720 with 6 Axes>"
      ]
     },
     "metadata": {},
     "output_type": "display_data"
    }
   ],
   "source": [
    "# plot six separate plots for each of the multi-class coefficients.\n",
    "fig, axList = plt.subplots(nrows=3, ncols=2)\n",
    "axList = axList.flatten()\n",
    "fig.set_size_inches(10,10)\n",
    "\n",
    "for ax in enumerate(axList):\n",
    "    loc = ax[0]\n",
    "    ax = ax[1]\n",
    "    \n",
    "    data = coefficients.xs(loc, level=1, axis=1)\n",
    "    data.plot(marker='o', ls='', ms=2.0, ax=ax, legend=False)\n",
    "    \n",
    "    if ax is axList[0]:\n",
    "        ax.legend(loc=4)\n",
    "        \n",
    "    ax.set(title='Coefficient Set '+str(loc))\n",
    "\n",
    "plt.tight_layout()"
   ]
  },
  {
   "cell_type": "code",
   "execution_count": 32,
   "metadata": {},
   "outputs": [],
   "source": [
    "# Predict and store classes for each model. Store the probablity and class for each model\n",
    "\n",
    "y_pred = list()\n",
    "y_prob = list()\n",
    "\n",
    "for label,model in zip(coeff_labels, coeff_models):\n",
    "    y_pred.append(pd.Series(model.predict(X_test), name=label))\n",
    "    y_prob.append(pd.Series(model.predict_proba(X_test).max(axis=1), name=label))\n",
    "    \n",
    "y_pred = pd.concat(y_pred, axis=1)\n",
    "y_prob = pd.concat(y_prob, axis=1)"
   ]
  },
  {
   "cell_type": "code",
   "execution_count": 33,
   "metadata": {},
   "outputs": [
    {
     "data": {
      "text/html": [
       "<div>\n",
       "<style scoped>\n",
       "    .dataframe tbody tr th:only-of-type {\n",
       "        vertical-align: middle;\n",
       "    }\n",
       "\n",
       "    .dataframe tbody tr th {\n",
       "        vertical-align: top;\n",
       "    }\n",
       "\n",
       "    .dataframe thead th {\n",
       "        text-align: right;\n",
       "    }\n",
       "</style>\n",
       "<table border=\"1\" class=\"dataframe\">\n",
       "  <thead>\n",
       "    <tr style=\"text-align: right;\">\n",
       "      <th></th>\n",
       "      <th>lr</th>\n",
       "      <th>l1</th>\n",
       "      <th>l2</th>\n",
       "    </tr>\n",
       "  </thead>\n",
       "  <tbody>\n",
       "    <tr>\n",
       "      <th>0</th>\n",
       "      <td>3</td>\n",
       "      <td>3</td>\n",
       "      <td>3</td>\n",
       "    </tr>\n",
       "    <tr>\n",
       "      <th>1</th>\n",
       "      <td>5</td>\n",
       "      <td>5</td>\n",
       "      <td>5</td>\n",
       "    </tr>\n",
       "    <tr>\n",
       "      <th>2</th>\n",
       "      <td>3</td>\n",
       "      <td>3</td>\n",
       "      <td>3</td>\n",
       "    </tr>\n",
       "    <tr>\n",
       "      <th>3</th>\n",
       "      <td>1</td>\n",
       "      <td>1</td>\n",
       "      <td>1</td>\n",
       "    </tr>\n",
       "    <tr>\n",
       "      <th>4</th>\n",
       "      <td>0</td>\n",
       "      <td>0</td>\n",
       "      <td>0</td>\n",
       "    </tr>\n",
       "    <tr>\n",
       "      <th>5</th>\n",
       "      <td>5</td>\n",
       "      <td>5</td>\n",
       "      <td>5</td>\n",
       "    </tr>\n",
       "    <tr>\n",
       "      <th>6</th>\n",
       "      <td>0</td>\n",
       "      <td>0</td>\n",
       "      <td>0</td>\n",
       "    </tr>\n",
       "    <tr>\n",
       "      <th>7</th>\n",
       "      <td>2</td>\n",
       "      <td>2</td>\n",
       "      <td>2</td>\n",
       "    </tr>\n",
       "    <tr>\n",
       "      <th>8</th>\n",
       "      <td>0</td>\n",
       "      <td>0</td>\n",
       "      <td>0</td>\n",
       "    </tr>\n",
       "    <tr>\n",
       "      <th>9</th>\n",
       "      <td>0</td>\n",
       "      <td>0</td>\n",
       "      <td>0</td>\n",
       "    </tr>\n",
       "  </tbody>\n",
       "</table>\n",
       "</div>"
      ],
      "text/plain": [
       "   lr  l1  l2\n",
       "0   3   3   3\n",
       "1   5   5   5\n",
       "2   3   3   3\n",
       "3   1   1   1\n",
       "4   0   0   0\n",
       "5   5   5   5\n",
       "6   0   0   0\n",
       "7   2   2   2\n",
       "8   0   0   0\n",
       "9   0   0   0"
      ]
     },
     "execution_count": 33,
     "metadata": {},
     "output_type": "execute_result"
    }
   ],
   "source": [
    "# check predicted y \n",
    "y_pred.head(10)"
   ]
  },
  {
   "cell_type": "code",
   "execution_count": 34,
   "metadata": {},
   "outputs": [
    {
     "data": {
      "text/html": [
       "<div>\n",
       "<style scoped>\n",
       "    .dataframe tbody tr th:only-of-type {\n",
       "        vertical-align: middle;\n",
       "    }\n",
       "\n",
       "    .dataframe tbody tr th {\n",
       "        vertical-align: top;\n",
       "    }\n",
       "\n",
       "    .dataframe thead th {\n",
       "        text-align: right;\n",
       "    }\n",
       "</style>\n",
       "<table border=\"1\" class=\"dataframe\">\n",
       "  <thead>\n",
       "    <tr style=\"text-align: right;\">\n",
       "      <th></th>\n",
       "      <th>lr</th>\n",
       "      <th>l1</th>\n",
       "      <th>l2</th>\n",
       "    </tr>\n",
       "  </thead>\n",
       "  <tbody>\n",
       "    <tr>\n",
       "      <th>0</th>\n",
       "      <td>0.998939</td>\n",
       "      <td>0.998928</td>\n",
       "      <td>0.999758</td>\n",
       "    </tr>\n",
       "    <tr>\n",
       "      <th>1</th>\n",
       "      <td>0.988165</td>\n",
       "      <td>0.999685</td>\n",
       "      <td>0.999477</td>\n",
       "    </tr>\n",
       "    <tr>\n",
       "      <th>2</th>\n",
       "      <td>0.987592</td>\n",
       "      <td>0.995513</td>\n",
       "      <td>0.999696</td>\n",
       "    </tr>\n",
       "    <tr>\n",
       "      <th>3</th>\n",
       "      <td>0.981381</td>\n",
       "      <td>0.999150</td>\n",
       "      <td>0.994338</td>\n",
       "    </tr>\n",
       "    <tr>\n",
       "      <th>4</th>\n",
       "      <td>0.998277</td>\n",
       "      <td>0.999922</td>\n",
       "      <td>0.999997</td>\n",
       "    </tr>\n",
       "    <tr>\n",
       "      <th>5</th>\n",
       "      <td>0.981715</td>\n",
       "      <td>0.998655</td>\n",
       "      <td>0.998196</td>\n",
       "    </tr>\n",
       "    <tr>\n",
       "      <th>6</th>\n",
       "      <td>0.998815</td>\n",
       "      <td>0.999998</td>\n",
       "      <td>1.000000</td>\n",
       "    </tr>\n",
       "    <tr>\n",
       "      <th>7</th>\n",
       "      <td>0.996950</td>\n",
       "      <td>0.999764</td>\n",
       "      <td>0.999990</td>\n",
       "    </tr>\n",
       "    <tr>\n",
       "      <th>8</th>\n",
       "      <td>0.999703</td>\n",
       "      <td>1.000000</td>\n",
       "      <td>0.999995</td>\n",
       "    </tr>\n",
       "    <tr>\n",
       "      <th>9</th>\n",
       "      <td>0.997391</td>\n",
       "      <td>0.999984</td>\n",
       "      <td>1.000000</td>\n",
       "    </tr>\n",
       "  </tbody>\n",
       "</table>\n",
       "</div>"
      ],
      "text/plain": [
       "         lr        l1        l2\n",
       "0  0.998939  0.998928  0.999758\n",
       "1  0.988165  0.999685  0.999477\n",
       "2  0.987592  0.995513  0.999696\n",
       "3  0.981381  0.999150  0.994338\n",
       "4  0.998277  0.999922  0.999997\n",
       "5  0.981715  0.998655  0.998196\n",
       "6  0.998815  0.999998  1.000000\n",
       "7  0.996950  0.999764  0.999990\n",
       "8  0.999703  1.000000  0.999995\n",
       "9  0.997391  0.999984  1.000000"
      ]
     },
     "execution_count": 34,
     "metadata": {},
     "output_type": "execute_result"
    }
   ],
   "source": [
    "# check probablity y \n",
    "y_prob.head(10)"
   ]
  },
  {
   "cell_type": "code",
   "execution_count": null,
   "metadata": {},
   "outputs": [],
   "source": []
  },
  {
   "cell_type": "code",
   "execution_count": null,
   "metadata": {},
   "outputs": [],
   "source": []
  },
  {
   "cell_type": "code",
   "execution_count": null,
   "metadata": {},
   "outputs": [],
   "source": []
  },
  {
   "cell_type": "code",
   "execution_count": null,
   "metadata": {},
   "outputs": [],
   "source": []
  },
  {
   "cell_type": "code",
   "execution_count": null,
   "metadata": {},
   "outputs": [],
   "source": []
  },
  {
   "cell_type": "code",
   "execution_count": null,
   "metadata": {},
   "outputs": [],
   "source": []
  },
  {
   "cell_type": "code",
   "execution_count": null,
   "metadata": {},
   "outputs": [],
   "source": []
  }
 ],
 "metadata": {
  "kernelspec": {
   "display_name": "Python 3",
   "language": "python",
   "name": "python3"
  },
  "language_info": {
   "codemirror_mode": {
    "name": "ipython",
    "version": 3
   },
   "file_extension": ".py",
   "mimetype": "text/x-python",
   "name": "python",
   "nbconvert_exporter": "python",
   "pygments_lexer": "ipython3",
   "version": "3.6.12"
  }
 },
 "nbformat": 4,
 "nbformat_minor": 4
}
