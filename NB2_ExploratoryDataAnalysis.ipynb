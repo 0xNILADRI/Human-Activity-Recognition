{
 "cells": [
  {
   "cell_type": "markdown",
   "id": "981b6cd6",
   "metadata": {},
   "source": [
    "# 2.0 Notebook 2: Exploratory Data Analysis\n",
    "\n",
    "We have assessed our data and have a good intuition. We take a closer look how the data looks now visually."
   ]
  },
  {
   "cell_type": "markdown",
   "id": "17196ce2",
   "metadata": {},
   "source": [
    "## 2.1 Objective\n",
    "\n",
    "Exploratory data analysis (EDA) is a important step which involes after feature engineering. It is necessary to understand the data in both descriptively and visually to get a full grasp on our data with out making any unnecessary presumption. Before begin with model building it is necessary to understand the data in-depth to avoid any future errors.\n",
    "\n",
    "Main motive of EDA is to:\n",
    "\n",
    "> understand data using summary statistics and visualizations, find out insights about data, quality of data\n",
    "  Before moving forward to data preprocessing we need to have overall picture of our data\n",
    "\n",
    "Descriptive statistics is the method of drawing brief discription of data using simple numerics. Few common metrics used are mean, standard deviation, and correlation.\n",
    "\n",
    "Visualization is the process of representing the data into simple plots and charts like bar plot , histogram, etc. "
   ]
  },
  {
   "cell_type": "markdown",
   "id": "6a8ad55f",
   "metadata": {},
   "source": [
    "## 2.2 Descriptive statistics\n",
    "\n",
    "Summary statistics is the process to describe the data."
   ]
  },
  {
   "cell_type": "code",
   "execution_count": 1,
   "id": "efb89248",
   "metadata": {},
   "outputs": [],
   "source": [
    "# import libraries\n",
    "import numpy as np, pandas as pd, matplotlib.pyplot as plt, seaborn as sns\n",
    "%matplotlib inline"
   ]
  },
  {
   "cell_type": "code",
   "execution_count": 2,
   "id": "7fbd491c",
   "metadata": {},
   "outputs": [],
   "source": [
    "# load dataset\n",
    "df = pd.read_csv(\"data/smartphone-data.csv\",delimiter = \",\")"
   ]
  },
  {
   "cell_type": "markdown",
   "id": "7c9c61d0",
   "metadata": {},
   "source": [
    "Since the __activity columns is object type__, and our logistic regression would not be able to apprehend it. Therefor we must need to convert this column into numerical for each class, we can use __LabelEncoder__ to do do our job."
   ]
  },
  {
   "cell_type": "code",
   "execution_count": 4,
   "id": "9807dd60",
   "metadata": {},
   "outputs": [
    {
     "data": {
      "text/plain": [
       "6735    3\n",
       "6689    0\n",
       "7286    3\n",
       "559     1\n",
       "6850    1\n",
       "Name: Activity, dtype: int32"
      ]
     },
     "execution_count": 4,
     "metadata": {},
     "output_type": "execute_result"
    }
   ],
   "source": [
    "from sklearn.preprocessing import LabelEncoder\n",
    "\n",
    "le = LabelEncoder()\n",
    "df['Activity'] = le.fit_transform(df.Activity)\n",
    "df['Activity'].sample(5)"
   ]
  },
  {
   "cell_type": "code",
   "execution_count": 5,
   "id": "d7e6f93c",
   "metadata": {},
   "outputs": [],
   "source": [
    "# check for correalation between different variables\n",
    "\n",
    "feature_columns = df.columns[:-1]\n",
    "corr_values = df[feature_columns].corr()"
   ]
  },
  {
   "cell_type": "code",
   "execution_count": 6,
   "id": "e47e8af9",
   "metadata": {},
   "outputs": [],
   "source": [
    "#remove values bwlow the diagonal\n",
    "trill_index = np.tril_indices_from(corr_values)"
   ]
  },
  {
   "cell_type": "code",
   "execution_count": 7,
   "id": "28235eb5",
   "metadata": {},
   "outputs": [],
   "source": [
    "# change unused columns to NaN\n",
    "for coor in zip(*trill_index):\n",
    "    corr_values.iloc[coor[0],coor[1]] = np.NaN"
   ]
  },
  {
   "cell_type": "code",
   "execution_count": 8,
   "id": "5991f44a",
   "metadata": {},
   "outputs": [],
   "source": [
    "# stack the data into dataframe\n",
    "corr_values = (corr_values\n",
    "               .stack()\n",
    "               .to_frame()\n",
    "               .reset_index()\n",
    "               .rename(columns={'level_0':'Feature 1',\n",
    "                                'level_1':'Feature 2',\n",
    "                                0:'correlation'}))"
   ]
  },
  {
   "cell_type": "code",
   "execution_count": 9,
   "id": "dfa8404b",
   "metadata": {},
   "outputs": [],
   "source": [
    "# since the correalation values are in the range of -1 t0 1. Therefor we add another column for absolute values for the corr.\n",
    "corr_values['abs_correlation'] = corr_values['correlation'].abs()"
   ]
  },
  {
   "cell_type": "code",
   "execution_count": 10,
   "id": "38412b5b",
   "metadata": {},
   "outputs": [
    {
     "data": {
      "text/html": [
       "<div>\n",
       "<style scoped>\n",
       "    .dataframe tbody tr th:only-of-type {\n",
       "        vertical-align: middle;\n",
       "    }\n",
       "\n",
       "    .dataframe tbody tr th {\n",
       "        vertical-align: top;\n",
       "    }\n",
       "\n",
       "    .dataframe thead th {\n",
       "        text-align: right;\n",
       "    }\n",
       "</style>\n",
       "<table border=\"1\" class=\"dataframe\">\n",
       "  <thead>\n",
       "    <tr style=\"text-align: right;\">\n",
       "      <th></th>\n",
       "      <th>Feature 1</th>\n",
       "      <th>Feature 2</th>\n",
       "      <th>correlation</th>\n",
       "      <th>abs_correlation</th>\n",
       "    </tr>\n",
       "  </thead>\n",
       "  <tbody>\n",
       "    <tr>\n",
       "      <th>0</th>\n",
       "      <td>tBodyAcc-mean()-X</td>\n",
       "      <td>tBodyAcc-mean()-Y</td>\n",
       "      <td>0.128037</td>\n",
       "      <td>0.128037</td>\n",
       "    </tr>\n",
       "    <tr>\n",
       "      <th>1</th>\n",
       "      <td>tBodyAcc-mean()-X</td>\n",
       "      <td>tBodyAcc-mean()-Z</td>\n",
       "      <td>-0.230302</td>\n",
       "      <td>0.230302</td>\n",
       "    </tr>\n",
       "    <tr>\n",
       "      <th>2</th>\n",
       "      <td>tBodyAcc-mean()-X</td>\n",
       "      <td>tBodyAcc-std()-X</td>\n",
       "      <td>0.004590</td>\n",
       "      <td>0.004590</td>\n",
       "    </tr>\n",
       "    <tr>\n",
       "      <th>3</th>\n",
       "      <td>tBodyAcc-mean()-X</td>\n",
       "      <td>tBodyAcc-std()-Y</td>\n",
       "      <td>-0.016785</td>\n",
       "      <td>0.016785</td>\n",
       "    </tr>\n",
       "    <tr>\n",
       "      <th>4</th>\n",
       "      <td>tBodyAcc-mean()-X</td>\n",
       "      <td>tBodyAcc-std()-Z</td>\n",
       "      <td>-0.036071</td>\n",
       "      <td>0.036071</td>\n",
       "    </tr>\n",
       "    <tr>\n",
       "      <th>...</th>\n",
       "      <td>...</td>\n",
       "      <td>...</td>\n",
       "      <td>...</td>\n",
       "      <td>...</td>\n",
       "    </tr>\n",
       "    <tr>\n",
       "      <th>157075</th>\n",
       "      <td>angle(tBodyGyroJerkMean,gravityMean)</td>\n",
       "      <td>angle(Y,gravityMean)</td>\n",
       "      <td>-0.004582</td>\n",
       "      <td>0.004582</td>\n",
       "    </tr>\n",
       "    <tr>\n",
       "      <th>157076</th>\n",
       "      <td>angle(tBodyGyroJerkMean,gravityMean)</td>\n",
       "      <td>angle(Z,gravityMean)</td>\n",
       "      <td>-0.012549</td>\n",
       "      <td>0.012549</td>\n",
       "    </tr>\n",
       "    <tr>\n",
       "      <th>157077</th>\n",
       "      <td>angle(X,gravityMean)</td>\n",
       "      <td>angle(Y,gravityMean)</td>\n",
       "      <td>-0.748249</td>\n",
       "      <td>0.748249</td>\n",
       "    </tr>\n",
       "    <tr>\n",
       "      <th>157078</th>\n",
       "      <td>angle(X,gravityMean)</td>\n",
       "      <td>angle(Z,gravityMean)</td>\n",
       "      <td>-0.635231</td>\n",
       "      <td>0.635231</td>\n",
       "    </tr>\n",
       "    <tr>\n",
       "      <th>157079</th>\n",
       "      <td>angle(Y,gravityMean)</td>\n",
       "      <td>angle(Z,gravityMean)</td>\n",
       "      <td>0.545614</td>\n",
       "      <td>0.545614</td>\n",
       "    </tr>\n",
       "  </tbody>\n",
       "</table>\n",
       "<p>157080 rows × 4 columns</p>\n",
       "</div>"
      ],
      "text/plain": [
       "                                   Feature 1             Feature 2  \\\n",
       "0                          tBodyAcc-mean()-X     tBodyAcc-mean()-Y   \n",
       "1                          tBodyAcc-mean()-X     tBodyAcc-mean()-Z   \n",
       "2                          tBodyAcc-mean()-X      tBodyAcc-std()-X   \n",
       "3                          tBodyAcc-mean()-X      tBodyAcc-std()-Y   \n",
       "4                          tBodyAcc-mean()-X      tBodyAcc-std()-Z   \n",
       "...                                      ...                   ...   \n",
       "157075  angle(tBodyGyroJerkMean,gravityMean)  angle(Y,gravityMean)   \n",
       "157076  angle(tBodyGyroJerkMean,gravityMean)  angle(Z,gravityMean)   \n",
       "157077                  angle(X,gravityMean)  angle(Y,gravityMean)   \n",
       "157078                  angle(X,gravityMean)  angle(Z,gravityMean)   \n",
       "157079                  angle(Y,gravityMean)  angle(Z,gravityMean)   \n",
       "\n",
       "        correlation  abs_correlation  \n",
       "0          0.128037         0.128037  \n",
       "1         -0.230302         0.230302  \n",
       "2          0.004590         0.004590  \n",
       "3         -0.016785         0.016785  \n",
       "4         -0.036071         0.036071  \n",
       "...             ...              ...  \n",
       "157075    -0.004582         0.004582  \n",
       "157076    -0.012549         0.012549  \n",
       "157077    -0.748249         0.748249  \n",
       "157078    -0.635231         0.635231  \n",
       "157079     0.545614         0.545614  \n",
       "\n",
       "[157080 rows x 4 columns]"
      ]
     },
     "execution_count": 10,
     "metadata": {},
     "output_type": "execute_result"
    }
   ],
   "source": [
    "corr_values"
   ]
  },
  {
   "cell_type": "code",
   "execution_count": 11,
   "id": "780305d7",
   "metadata": {},
   "outputs": [
    {
     "data": {
      "image/png": "[encoded data removed]",
      "text/plain": [
       "<Figure size 864x576 with 1 Axes>"
      ]
     },
     "metadata": {},
     "output_type": "display_data"
    }
   ],
   "source": [
    "# plot the histogram or frequency count for each unique correaltion\n",
    "sns.set_context('talk')\n",
    "sns.set_style('white')\n",
    "\n",
    "ax = corr_values.abs_correlation.hist(bins=50, figsize=(12, 8))\n",
    "ax.set(xlabel='Absolute Correlation', ylabel='Frequency');"
   ]
  },
  {
   "cell_type": "code",
   "execution_count": 12,
   "id": "c3d8e863",
   "metadata": {},
   "outputs": [
    {
     "data": {
      "text/html": [
       "<div>\n",
       "<style scoped>\n",
       "    .dataframe tbody tr th:only-of-type {\n",
       "        vertical-align: middle;\n",
       "    }\n",
       "\n",
       "    .dataframe tbody tr th {\n",
       "        vertical-align: top;\n",
       "    }\n",
       "\n",
       "    .dataframe thead th {\n",
       "        text-align: right;\n",
       "    }\n",
       "</style>\n",
       "<table border=\"1\" class=\"dataframe\">\n",
       "  <thead>\n",
       "    <tr style=\"text-align: right;\">\n",
       "      <th></th>\n",
       "      <th>Feature 1</th>\n",
       "      <th>Feature 2</th>\n",
       "      <th>correlation</th>\n",
       "      <th>abs_correlation</th>\n",
       "    </tr>\n",
       "  </thead>\n",
       "  <tbody>\n",
       "    <tr>\n",
       "      <th>156894</th>\n",
       "      <td>fBodyBodyGyroJerkMag-mean()</td>\n",
       "      <td>fBodyBodyGyroJerkMag-sma()</td>\n",
       "      <td>1.000000</td>\n",
       "      <td>1.000000</td>\n",
       "    </tr>\n",
       "    <tr>\n",
       "      <th>93902</th>\n",
       "      <td>tBodyAccMag-sma()</td>\n",
       "      <td>tGravityAccMag-sma()</td>\n",
       "      <td>1.000000</td>\n",
       "      <td>1.000000</td>\n",
       "    </tr>\n",
       "    <tr>\n",
       "      <th>101139</th>\n",
       "      <td>tBodyAccJerkMag-mean()</td>\n",
       "      <td>tBodyAccJerkMag-sma()</td>\n",
       "      <td>1.000000</td>\n",
       "      <td>1.000000</td>\n",
       "    </tr>\n",
       "    <tr>\n",
       "      <th>96706</th>\n",
       "      <td>tGravityAccMag-mean()</td>\n",
       "      <td>tGravityAccMag-sma()</td>\n",
       "      <td>1.000000</td>\n",
       "      <td>1.000000</td>\n",
       "    </tr>\n",
       "    <tr>\n",
       "      <th>94257</th>\n",
       "      <td>tBodyAccMag-energy()</td>\n",
       "      <td>tGravityAccMag-energy()</td>\n",
       "      <td>1.000000</td>\n",
       "      <td>1.000000</td>\n",
       "    </tr>\n",
       "    <tr>\n",
       "      <th>...</th>\n",
       "      <td>...</td>\n",
       "      <td>...</td>\n",
       "      <td>...</td>\n",
       "      <td>...</td>\n",
       "    </tr>\n",
       "    <tr>\n",
       "      <th>22657</th>\n",
       "      <td>tGravityAcc-mean()-Y</td>\n",
       "      <td>angle(Y,gravityMean)</td>\n",
       "      <td>-0.993425</td>\n",
       "      <td>0.993425</td>\n",
       "    </tr>\n",
       "    <tr>\n",
       "      <th>39225</th>\n",
       "      <td>tGravityAcc-arCoeff()-Z,3</td>\n",
       "      <td>tGravityAcc-arCoeff()-Z,4</td>\n",
       "      <td>-0.994267</td>\n",
       "      <td>0.994267</td>\n",
       "    </tr>\n",
       "    <tr>\n",
       "      <th>38739</th>\n",
       "      <td>tGravityAcc-arCoeff()-Z,2</td>\n",
       "      <td>tGravityAcc-arCoeff()-Z,3</td>\n",
       "      <td>-0.994628</td>\n",
       "      <td>0.994628</td>\n",
       "    </tr>\n",
       "    <tr>\n",
       "      <th>23176</th>\n",
       "      <td>tGravityAcc-mean()-Z</td>\n",
       "      <td>angle(Z,gravityMean)</td>\n",
       "      <td>-0.994764</td>\n",
       "      <td>0.994764</td>\n",
       "    </tr>\n",
       "    <tr>\n",
       "      <th>38252</th>\n",
       "      <td>tGravityAcc-arCoeff()-Z,1</td>\n",
       "      <td>tGravityAcc-arCoeff()-Z,2</td>\n",
       "      <td>-0.995195</td>\n",
       "      <td>0.995195</td>\n",
       "    </tr>\n",
       "  </tbody>\n",
       "</table>\n",
       "<p>22815 rows × 4 columns</p>\n",
       "</div>"
      ],
      "text/plain": [
       "                          Feature 1                   Feature 2  correlation  \\\n",
       "156894  fBodyBodyGyroJerkMag-mean()  fBodyBodyGyroJerkMag-sma()     1.000000   \n",
       "93902             tBodyAccMag-sma()        tGravityAccMag-sma()     1.000000   \n",
       "101139       tBodyAccJerkMag-mean()       tBodyAccJerkMag-sma()     1.000000   \n",
       "96706         tGravityAccMag-mean()        tGravityAccMag-sma()     1.000000   \n",
       "94257          tBodyAccMag-energy()     tGravityAccMag-energy()     1.000000   \n",
       "...                             ...                         ...          ...   \n",
       "22657          tGravityAcc-mean()-Y        angle(Y,gravityMean)    -0.993425   \n",
       "39225     tGravityAcc-arCoeff()-Z,3   tGravityAcc-arCoeff()-Z,4    -0.994267   \n",
       "38739     tGravityAcc-arCoeff()-Z,2   tGravityAcc-arCoeff()-Z,3    -0.994628   \n",
       "23176          tGravityAcc-mean()-Z        angle(Z,gravityMean)    -0.994764   \n",
       "38252     tGravityAcc-arCoeff()-Z,1   tGravityAcc-arCoeff()-Z,2    -0.995195   \n",
       "\n",
       "        abs_correlation  \n",
       "156894         1.000000  \n",
       "93902          1.000000  \n",
       "101139         1.000000  \n",
       "96706          1.000000  \n",
       "94257          1.000000  \n",
       "...                 ...  \n",
       "22657          0.993425  \n",
       "39225          0.994267  \n",
       "38739          0.994628  \n",
       "23176          0.994764  \n",
       "38252          0.995195  \n",
       "\n",
       "[22815 rows x 4 columns]"
      ]
     },
     "execution_count": 12,
     "metadata": {},
     "output_type": "execute_result"
    }
   ],
   "source": [
    "# the features that are highly correlated\n",
    "corr_values.sort_values('correlation', ascending=False).query('abs_correlation>0.8')"
   ]
  },
  {
   "cell_type": "markdown",
   "id": "bc70db3d",
   "metadata": {},
   "source": [
    "These columns have very high correaltion which means that one column can be used instead of the other. For eg area and volume of a object will have high correlation with each other since they are both interelated."
   ]
  },
  {
   "cell_type": "markdown",
   "id": "074d1ee8",
   "metadata": {},
   "source": [
    "> In the next Section we will train our model and try to predict the outcomes, using Logistic Regression."
   ]
  }
 ],
 "metadata": {
  "kernelspec": {
   "display_name": "Python 3 (ipykernel)",
   "language": "python",
   "name": "python3"
  },
  "language_info": {
   "codemirror_mode": {
    "name": "ipython",
    "version": 3
   },
   "file_extension": ".py",
   "mimetype": "text/x-python",
   "name": "python",
   "nbconvert_exporter": "python",
   "pygments_lexer": "ipython3",
   "version": "3.9.6"
  }
 },
 "nbformat": 4,
 "nbformat_minor": 5
}
